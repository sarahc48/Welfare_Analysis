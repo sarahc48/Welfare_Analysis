{
 "cells": [
  {
   "cell_type": "markdown",
   "metadata": {
    "ein.tags": [
     "worksheet-0"
    ],
    "slideshow": {
     "slide_type": "-"
    }
   },
   "source": [
    "# Problem Set 2, due January 23th at 5:30 pm/January 24th 3:30pm\n",
    "\n",
    "**Please Note:** This assignment will likely take you a _long_ time, especially if you are new to Python. Start early!"
   ]
  },
  {
   "cell_type": "markdown",
   "metadata": {
    "ein.tags": [
     "worksheet-0"
    ],
    "slideshow": {
     "slide_type": "-"
    }
   },
   "source": [
    "## Introduction to the assignment\n",
    "\n",
    "For this assignment, you will be using data from the [Progresa program](http://en.wikipedia.org/wiki/Oportunidades), a government social assistance program in Mexico. This program, as well as the details of its impact, are described in the paper \"[School subsidies for the poor: evaluating the Mexican Progresa poverty program](http://www.sciencedirect.com/science/article/pii/S0304387803001858)\", by Paul Shultz (available on Canvas). Please familiarize yourself with the PROGRESA program before beginning this problem set, so you have a rough sense of where the data come from and how they were generated. If you just proceed into the problem set without understanding Progresa or the data, it will be very difficult!\n",
    "\n",
    "The goal of this problem set is to implement some of the basic econometric techniques that you are learning in class to measure the impact of Progresa on secondary school enrollment rates. The timeline of the program was:\n",
    "\n",
    " * Baseline survey conducted in 1997\n",
    " * Intervention begins in 1998, \"Wave 1\" of data collected in 1998\n",
    " * \"Wave 2 of data\" collected in 1999\n",
    " * Evaluation ends in 2000, at which point the control villages were treated. \n",
    " \n",
    "When you are ready, download the progresa_sample.csv data from Canvas. The data are actual data collected to evaluate the impact of the Progresa program.  In this file, each row corresponds to an observation taken for a given child for a given year. There are two years of data (1997 and 1998), and just under 40,000 children who are surveyed in each year. For each child-year observation, the following variables are collected:\n",
    "\n",
    "| Variable name | Description|\n",
    "|---------|---------|\n",
    "|year\t  |year in which data is collected\n",
    "|sex\t  |male = 1|\n",
    "|indig\t  |indigenous = 1|\n",
    "|dist_sec |nearest distance to a secondary school|\n",
    "|sc\t      |enrolled in school in year of survey|\n",
    "|grc      |grade enrolled|\n",
    "|fam_n    |family size|\n",
    "|min_dist |\tmin distance to an urban center|\n",
    "|dist_cap |\tmin distance to the capital|\n",
    "|poor     |\tpoor = 1|\n",
    "|progresa |treatment =1|\n",
    "|hohedu\t  |years of schooling of head of household|\n",
    "|hohwag\t  |monthly wages of head of household|\n",
    "|welfare_index|\twelfare index used to classify poor|\n",
    "|hohsex\t  |gender of head of household (male=1)|\n",
    "|hohage   |age of head of household|\n",
    "|age      |years old|\n",
    "|folnum\t  |individual id|\n",
    "|village  |\tvillage id|\n",
    "|sc97\t  |schooling in 1997|"
   ]
  },
  {
   "cell_type": "markdown",
   "metadata": {
    "ein.tags": [
     "worksheet-0"
    ],
    "slideshow": {
     "slide_type": "-"
    }
   },
   "source": [
    "---\n",
    "\n",
    "##Part 1: Descriptive analysis\n",
    "\n",
    "### 1.1\tSummary Statistics\n",
    "\n",
    "Present summary statistics (mean and standard deviation) for all of the demographic variables in the dataset (i.e., everything except year, folnum, village). Present these in a single table alphabetized by variable name. Do NOT simply expect the grader to scroll through your output!"
   ]
  },
  {
   "cell_type": "code",
   "execution_count": 1,
   "metadata": {
    "collapsed": false
   },
   "outputs": [],
   "source": [
    "#load libraries\n",
    "import pandas as pd\n",
    "import numpy as np\n",
    "import scipy.stats as scipy\n",
    "import matplotlib.pyplot as plt\n",
    "%matplotlib inline\n",
    "from sklearn.linear_model import LinearRegression\n",
    "import statsmodels.formula.api as smf\n",
    "from patsy import dmatrices\n",
    "#load data\n",
    "pp_df= pd.read_csv('progresa_sample.csv')"
   ]
  },
  {
   "cell_type": "code",
   "execution_count": 2,
   "metadata": {
    "collapsed": false
   },
   "outputs": [
    {
     "name": "stdout",
     "output_type": "stream",
     "text": [
      "(77250, 21)\n",
      "Index(['year', 'sex', 'indig', 'dist_sec', 'sc', 'grc', 'fam_n', 'min_dist',\n",
      "       'dist_cap', 'poor', 'progresa', 'hohedu', 'hohwag', 'welfare_index',\n",
      "       'hohsex', 'hohage', 'age', 'village', 'folnum', 'grc97', 'sc97'],\n",
      "      dtype='object')\n"
     ]
    }
   ],
   "source": [
    "#print\n",
    "print (pp_df.shape)\n",
    "print(pp_df.columns)\n",
    "#print(pp_df.dtypes)\n",
    "#print(pp_df.head)"
   ]
  },
  {
   "cell_type": "code",
   "execution_count": 3,
   "metadata": {
    "autoscroll": "json-false",
    "collapsed": false,
    "ein.tags": [
     "worksheet-0"
    ],
    "slideshow": {
     "slide_type": "-"
    }
   },
   "outputs": [
    {
     "data": {
      "text/html": [
       "<div>\n",
       "<table border=\"1\" class=\"dataframe\">\n",
       "  <thead>\n",
       "    <tr style=\"text-align: right;\">\n",
       "      <th></th>\n",
       "      <th>mean</th>\n",
       "      <th>std</th>\n",
       "    </tr>\n",
       "  </thead>\n",
       "  <tbody>\n",
       "    <tr>\n",
       "      <th>age</th>\n",
       "      <td>11.141369</td>\n",
       "      <td>2.995374</td>\n",
       "    </tr>\n",
       "    <tr>\n",
       "      <th>dist_cap</th>\n",
       "      <td>148.747707</td>\n",
       "      <td>77.134043</td>\n",
       "    </tr>\n",
       "    <tr>\n",
       "      <th>dist_sec</th>\n",
       "      <td>2.346990</td>\n",
       "      <td>2.111281</td>\n",
       "    </tr>\n",
       "    <tr>\n",
       "      <th>fam_n</th>\n",
       "      <td>7.224666</td>\n",
       "      <td>2.329421</td>\n",
       "    </tr>\n",
       "    <tr>\n",
       "      <th>grc</th>\n",
       "      <td>4.089494</td>\n",
       "      <td>2.447608</td>\n",
       "    </tr>\n",
       "    <tr>\n",
       "      <th>grc97</th>\n",
       "      <td>3.762656</td>\n",
       "      <td>2.449568</td>\n",
       "    </tr>\n",
       "    <tr>\n",
       "      <th>hohage</th>\n",
       "      <td>44.262224</td>\n",
       "      <td>11.457772</td>\n",
       "    </tr>\n",
       "    <tr>\n",
       "      <th>hohedu</th>\n",
       "      <td>2.853908</td>\n",
       "      <td>2.655106</td>\n",
       "    </tr>\n",
       "    <tr>\n",
       "      <th>hohsex</th>\n",
       "      <td>0.927744</td>\n",
       "      <td>0.258914</td>\n",
       "    </tr>\n",
       "    <tr>\n",
       "      <th>hohwag</th>\n",
       "      <td>592.782484</td>\n",
       "      <td>791.378223</td>\n",
       "    </tr>\n",
       "    <tr>\n",
       "      <th>indig</th>\n",
       "      <td>0.291305</td>\n",
       "      <td>0.454367</td>\n",
       "    </tr>\n",
       "    <tr>\n",
       "      <th>min_dist</th>\n",
       "      <td>103.595249</td>\n",
       "      <td>42.025512</td>\n",
       "    </tr>\n",
       "    <tr>\n",
       "      <th>sc</th>\n",
       "      <td>0.821102</td>\n",
       "      <td>0.383270</td>\n",
       "    </tr>\n",
       "    <tr>\n",
       "      <th>sc97</th>\n",
       "      <td>0.839263</td>\n",
       "      <td>0.367291</td>\n",
       "    </tr>\n",
       "    <tr>\n",
       "      <th>sex</th>\n",
       "      <td>0.513572</td>\n",
       "      <td>0.499819</td>\n",
       "    </tr>\n",
       "    <tr>\n",
       "      <th>welfare_index</th>\n",
       "      <td>690.196267</td>\n",
       "      <td>139.489218</td>\n",
       "    </tr>\n",
       "  </tbody>\n",
       "</table>\n",
       "</div>"
      ],
      "text/plain": [
       "                     mean         std\n",
       "age             11.141369    2.995374\n",
       "dist_cap       148.747707   77.134043\n",
       "dist_sec         2.346990    2.111281\n",
       "fam_n            7.224666    2.329421\n",
       "grc              4.089494    2.447608\n",
       "grc97            3.762656    2.449568\n",
       "hohage          44.262224   11.457772\n",
       "hohedu           2.853908    2.655106\n",
       "hohsex           0.927744    0.258914\n",
       "hohwag         592.782484  791.378223\n",
       "indig            0.291305    0.454367\n",
       "min_dist       103.595249   42.025512\n",
       "sc               0.821102    0.383270\n",
       "sc97             0.839263    0.367291\n",
       "sex              0.513572    0.499819\n",
       "welfare_index  690.196267  139.489218"
      ]
     },
     "execution_count": 3,
     "metadata": {},
     "output_type": "execute_result"
    }
   ],
   "source": [
    "#get rid of NA's\n",
    "pp_df = pp_df.dropna()\n",
    "\n",
    "#Print means in new table\n",
    "pp_mean=pd.DataFrame(pp_df)\n",
    "\n",
    "#drop unwanted columns\n",
    "pp_mean = pp_mean.drop(pp_mean.columns[[0,17,18]], axis=1)\n",
    "\n",
    "#get descriptive stats.\n",
    "pp_mean2 = pp_mean.describe()\n",
    "\n",
    "#flip rows and columns\n",
    "pp_averages = pp_mean2.transpose()\n",
    "\n",
    "#make it a dataframe\n",
    "pp_averages = pd.DataFrame(pp_averages)\n",
    "\n",
    "#view new df\n",
    "pp_averages\n",
    "\n",
    "#alphebetize\n",
    "sum_stats = pp_averages.sort_index()\n",
    "sum_stats\n",
    "\n",
    "#drop unwanted statistics\n",
    "sum_stats = sum_stats.drop(sum_stats.columns[[0, 3,4,5,6,7]], axis=1)\n",
    "sum_stats\n"
   ]
  },
  {
   "cell_type": "markdown",
   "metadata": {
    "ein.tags": [
     "worksheet-0"
    ],
    "slideshow": {
     "slide_type": "-"
    }
   },
   "source": [
    "### 1.2 Differences at baseline?\n",
    "\n",
    "Are the baseline (1997) demographic characteristics **for the poor**  different in treatment and control villages? Hint: Use a T-Test to determine whether there is a statistically significant difference in the average values of each of the variables in the dataset. Focus only on the data from 1997 for individuals who are poor (i.e., poor=='pobre').\n",
    "\n",
    "Present your results in a single table with the following columns and 14 (or so) rows:\n",
    "\n",
    "| Variable name | Average value (Treatment villages) | Average value (Control villages) | Difference (Treat - Control) | p-value |\n",
    "|------|------|------|------|------|\n",
    "|Male  |?     |?     |?     |?     |\n"
   ]
  },
  {
   "cell_type": "markdown",
   "metadata": {
    "collapsed": true
   },
   "source": [
    "The baseline characteristics are fairly consistant when looking at the means of the treatment and control groups. \n",
    "The t-test allows us to see that min_dist, dist_cap, hohwag, welfare_index, and hohage all have low pvalues which indicates that the differences for these variables is significant."
   ]
  },
  {
   "cell_type": "code",
   "execution_count": 4,
   "metadata": {
    "collapsed": false
   },
   "outputs": [],
   "source": [
    "# Subset to poor and 1997\n",
    "poor1 = pp_df[(pp_df[\"poor\"] == \"pobre\") & (pp_df[\"year\"] == 97)]\n",
    "\n",
    "# Treatment villages (basal) and control (0), dropping non-numeric columns\n",
    "treat = poor1[poor1[\"progresa\"] == \"basal\"].drop([\"folnum\", \"village\", \"year\", \"poor\", \"progresa\"], axis = 1)\n",
    "control = poor1[poor1[\"progresa\"] == \"0\"].drop([\"folnum\", \"village\", \"year\", \"poor\", \"progresa\"], axis = 1)\n",
    "\n"
   ]
  },
  {
   "cell_type": "code",
   "execution_count": 5,
   "metadata": {
    "autoscroll": "json-false",
    "collapsed": false,
    "ein.tags": [
     "worksheet-0"
    ],
    "slideshow": {
     "slide_type": "-"
    }
   },
   "outputs": [],
   "source": [
    "#create dem variables ls\n",
    "dem_variables = ['sex', 'indig', 'dist_sec', 'sc', 'grc', 'fam_n', 'min_dist','dist_cap', 'hohedu', 'hohwag', 'welfare_index','hohsex', 'hohage', 'age', 'grc97', 'sc97']\n",
    "\n",
    "#create empty data frame and store average results \n",
    "ttest_df = pd.DataFrame()\n",
    "ttest_df['variable name'] = dem_variables\n",
    "\n",
    "\n",
    "#find control means\n",
    "control_means = control[dem_variables]\n",
    "control_means = np.array(control_means.mean())\n",
    "\n",
    "# find treatment means\n",
    "treatment_means = treat[dem_variables]\n",
    "treatment_means = np.array(treatment_means.mean())\n",
    "control_means\n",
    "treatment_means\n",
    "\n",
    "#put means into df\n",
    "ttest_df['Average Value (treatment)'] = treatment_means\n",
    "ttest_df['Average Value (control)'] = control_means\n",
    "\n",
    "\n",
    "#difference column\n",
    "ttest_df['Difference (treat-control)'] = (treatment_means - control_means)\n",
    "\n"
   ]
  },
  {
   "cell_type": "code",
   "execution_count": 6,
   "metadata": {
    "collapsed": false
   },
   "outputs": [],
   "source": [
    "\n",
    "#ttest\n",
    "ttest = scipy.stats.ttest_ind(treat.dropna(axis = 0), control.dropna(axis = 0)) \n",
    "ttest\n",
    "\n",
    "#add pvalue to table\n",
    "ttest_df['pvalue'] = ttest.pvalue\n",
    "\n",
    "#check to see if it worked\n",
    "#(ttest_df)"
   ]
  },
  {
   "cell_type": "markdown",
   "metadata": {
    "ein.tags": [
     "worksheet-0"
    ],
    "slideshow": {
     "slide_type": "-"
    }
   },
   "source": [
    "### 1.3 Interpretation\n",
    "\n",
    "* A: Are there statistically significant differences between treatment and control villages as baseline? \n",
    "* B: Why does it matter if there are differences at baseline?\n",
    "* C: What does this imply about how to measure the impact of the treatment?"
   ]
  },
  {
   "cell_type": "markdown",
   "metadata": {
    "autoscroll": "json-false",
    "collapsed": false,
    "ein.tags": [
     "worksheet-0"
    ],
    "slideshow": {
     "slide_type": "-"
    }
   },
   "source": [
    "A:  There are statistically significant differences between treatment and control villages as baseline. \n",
    "Min_dist, dist_cap, hohwag, welfare_index, and hohage all have pvalues lower than .05 which indicates a statistically significant difference between treatment and control.\n",
    "\n",
    "B: The significant differences (with low p values) tell us that those variables are not significant by chance. They are not simply random. \n",
    "    \n",
    "C: We will need to ensure that the variables with low p values are not impeding our ability to measure the true treatment effect, as they may be covariates masking the treatment effect.\n",
    "    "
   ]
  },
  {
   "cell_type": "markdown",
   "metadata": {
    "ein.tags": [
     "worksheet-0"
    ],
    "slideshow": {
     "slide_type": "-"
    }
   },
   "source": [
    "### 1.4 Graphical exploration, part 1\n",
    "\n",
    "For each level of household head education, compute the average enrollment rate in 1997. Create a scatterplot that shows this relationship. What do you notice?"
   ]
  },
  {
   "cell_type": "markdown",
   "metadata": {
    "collapsed": true
   },
   "source": [
    "I am noticing that the average enrollment rates for each year of hoh education has generally a slightly upward trend, but hovers between.77 and .98.\n",
    "The most noticable thing, however, is that at 20 years of school for the hoh, the average enrollment plummits to around .5."
   ]
  },
  {
   "cell_type": "code",
   "execution_count": 7,
   "metadata": {
    "autoscroll": "json-false",
    "collapsed": false,
    "ein.tags": [
     "worksheet-0"
    ],
    "slideshow": {
     "slide_type": "-"
    }
   },
   "outputs": [],
   "source": [
    "#filter by year\n",
    "enroll_df = pp_df[pp_df.year == 97]\n",
    "enroll_df\n",
    "\n",
    "#create new df\n",
    "edu_df = pd.DataFrame()\n",
    "edu_df['average_enrollment'] = enroll_df.groupby('hohedu')['sc'].mean()\n",
    "\n",
    "#print\n",
    "#print(edu_df)"
   ]
  },
  {
   "cell_type": "code",
   "execution_count": 8,
   "metadata": {
    "collapsed": false
   },
   "outputs": [
    {
     "data": {
      "image/png": "[encoded data removed]",
      "text/plain": [
       "<matplotlib.figure.Figure at 0x106e2ecf8>"
      ]
     },
     "metadata": {},
     "output_type": "display_data"
    }
   ],
   "source": [
    "#create scatterplot\n",
    "plt.scatter(enroll_df.hohedu.unique(), edu_df.average_enrollment)\n",
    "\n",
    "#labels\n",
    "plt.title('Average Enrollment Rate by HOH Education for 1997')\n",
    "plt.ylabel('Average Enrollment Rate')\n",
    "plt.xlabel('Head of Household Education')\n",
    "\n",
    "plt.show()"
   ]
  },
  {
   "cell_type": "markdown",
   "metadata": {
    "ein.tags": [
     "worksheet-0"
    ],
    "slideshow": {
     "slide_type": "-"
    }
   },
   "source": [
    "### 1.5 Graphical exploration, part 2\n",
    "\n",
    "Create a histogram of village enrollment rates **among poor households in treated villages**, before and after treatment. Specifically, for each village, calculate the average rate of enrollment of poor households in treated villages in 1997, then compute the average rate of enrollment of poor households in treated villages in 1998. Create two separate histograms showing the distribution of these average enrollments rates, one histogram for 1997 and one histogram for 1998. On each histogram, draw a vertical line that intersects the x-axis at the average value (across all households).\n",
    "* Does there appear to be a difference? Is this difference statistically significant?\n",
    "* Which D estimator in Schultz (2004) does this approach correspond to?"
   ]
  },
  {
   "cell_type": "markdown",
   "metadata": {},
   "source": [
    "There is a difference between average enrollment rates in treated villages from 1997-1998. The histogram shifts to the right in 1998, and consequently, so does the mean. The t test results give us a p value of .01 which means that the difference is statistically significant. This corresponds to Schultz's D1 estimator.\n",
    "\n"
   ]
  },
  {
   "cell_type": "code",
   "execution_count": 9,
   "metadata": {
    "autoscroll": "json-false",
    "collapsed": false,
    "ein.tags": [
     "worksheet-0"
    ],
    "slideshow": {
     "slide_type": "-"
    }
   },
   "outputs": [
    {
     "data": {
      "text/html": [
       "<div>\n",
       "<table border=\"1\" class=\"dataframe\">\n",
       "  <thead>\n",
       "    <tr style=\"text-align: right;\">\n",
       "      <th></th>\n",
       "      <th>avg_enrollment</th>\n",
       "    </tr>\n",
       "    <tr>\n",
       "      <th>village</th>\n",
       "      <th></th>\n",
       "    </tr>\n",
       "  </thead>\n",
       "  <tbody>\n",
       "    <tr>\n",
       "      <th>1</th>\n",
       "      <td>0.809917</td>\n",
       "    </tr>\n",
       "    <tr>\n",
       "      <th>2</th>\n",
       "      <td>0.714286</td>\n",
       "    </tr>\n",
       "    <tr>\n",
       "      <th>4</th>\n",
       "      <td>0.946058</td>\n",
       "    </tr>\n",
       "    <tr>\n",
       "      <th>5</th>\n",
       "      <td>0.976744</td>\n",
       "    </tr>\n",
       "    <tr>\n",
       "      <th>6</th>\n",
       "      <td>0.903846</td>\n",
       "    </tr>\n",
       "    <tr>\n",
       "      <th>7</th>\n",
       "      <td>0.875000</td>\n",
       "    </tr>\n",
       "    <tr>\n",
       "      <th>8</th>\n",
       "      <td>0.851852</td>\n",
       "    </tr>\n",
       "    <tr>\n",
       "      <th>9</th>\n",
       "      <td>0.777778</td>\n",
       "    </tr>\n",
       "    <tr>\n",
       "      <th>10</th>\n",
       "      <td>0.761905</td>\n",
       "    </tr>\n",
       "    <tr>\n",
       "      <th>11</th>\n",
       "      <td>0.841837</td>\n",
       "    </tr>\n",
       "    <tr>\n",
       "      <th>12</th>\n",
       "      <td>0.962264</td>\n",
       "    </tr>\n",
       "    <tr>\n",
       "      <th>14</th>\n",
       "      <td>0.651685</td>\n",
       "    </tr>\n",
       "    <tr>\n",
       "      <th>15</th>\n",
       "      <td>0.847826</td>\n",
       "    </tr>\n",
       "    <tr>\n",
       "      <th>17</th>\n",
       "      <td>0.920000</td>\n",
       "    </tr>\n",
       "    <tr>\n",
       "      <th>18</th>\n",
       "      <td>0.987342</td>\n",
       "    </tr>\n",
       "    <tr>\n",
       "      <th>19</th>\n",
       "      <td>0.888889</td>\n",
       "    </tr>\n",
       "    <tr>\n",
       "      <th>21</th>\n",
       "      <td>0.741379</td>\n",
       "    </tr>\n",
       "    <tr>\n",
       "      <th>23</th>\n",
       "      <td>0.923077</td>\n",
       "    </tr>\n",
       "    <tr>\n",
       "      <th>24</th>\n",
       "      <td>0.979592</td>\n",
       "    </tr>\n",
       "    <tr>\n",
       "      <th>25</th>\n",
       "      <td>0.914286</td>\n",
       "    </tr>\n",
       "    <tr>\n",
       "      <th>29</th>\n",
       "      <td>0.977778</td>\n",
       "    </tr>\n",
       "    <tr>\n",
       "      <th>33</th>\n",
       "      <td>0.790323</td>\n",
       "    </tr>\n",
       "    <tr>\n",
       "      <th>34</th>\n",
       "      <td>0.909091</td>\n",
       "    </tr>\n",
       "    <tr>\n",
       "      <th>35</th>\n",
       "      <td>0.911765</td>\n",
       "    </tr>\n",
       "    <tr>\n",
       "      <th>36</th>\n",
       "      <td>0.909091</td>\n",
       "    </tr>\n",
       "    <tr>\n",
       "      <th>38</th>\n",
       "      <td>0.879121</td>\n",
       "    </tr>\n",
       "    <tr>\n",
       "      <th>39</th>\n",
       "      <td>1.000000</td>\n",
       "    </tr>\n",
       "    <tr>\n",
       "      <th>41</th>\n",
       "      <td>0.921053</td>\n",
       "    </tr>\n",
       "    <tr>\n",
       "      <th>42</th>\n",
       "      <td>0.835616</td>\n",
       "    </tr>\n",
       "    <tr>\n",
       "      <th>44</th>\n",
       "      <td>0.904762</td>\n",
       "    </tr>\n",
       "    <tr>\n",
       "      <th>...</th>\n",
       "      <td>...</td>\n",
       "    </tr>\n",
       "    <tr>\n",
       "      <th>447</th>\n",
       "      <td>0.936170</td>\n",
       "    </tr>\n",
       "    <tr>\n",
       "      <th>448</th>\n",
       "      <td>0.923077</td>\n",
       "    </tr>\n",
       "    <tr>\n",
       "      <th>450</th>\n",
       "      <td>0.782609</td>\n",
       "    </tr>\n",
       "    <tr>\n",
       "      <th>452</th>\n",
       "      <td>0.815789</td>\n",
       "    </tr>\n",
       "    <tr>\n",
       "      <th>453</th>\n",
       "      <td>0.844444</td>\n",
       "    </tr>\n",
       "    <tr>\n",
       "      <th>454</th>\n",
       "      <td>0.833333</td>\n",
       "    </tr>\n",
       "    <tr>\n",
       "      <th>455</th>\n",
       "      <td>0.968750</td>\n",
       "    </tr>\n",
       "    <tr>\n",
       "      <th>457</th>\n",
       "      <td>0.938462</td>\n",
       "    </tr>\n",
       "    <tr>\n",
       "      <th>458</th>\n",
       "      <td>0.951220</td>\n",
       "    </tr>\n",
       "    <tr>\n",
       "      <th>460</th>\n",
       "      <td>0.938776</td>\n",
       "    </tr>\n",
       "    <tr>\n",
       "      <th>462</th>\n",
       "      <td>0.925926</td>\n",
       "    </tr>\n",
       "    <tr>\n",
       "      <th>467</th>\n",
       "      <td>0.875000</td>\n",
       "    </tr>\n",
       "    <tr>\n",
       "      <th>468</th>\n",
       "      <td>0.838710</td>\n",
       "    </tr>\n",
       "    <tr>\n",
       "      <th>469</th>\n",
       "      <td>0.864865</td>\n",
       "    </tr>\n",
       "    <tr>\n",
       "      <th>471</th>\n",
       "      <td>1.000000</td>\n",
       "    </tr>\n",
       "    <tr>\n",
       "      <th>472</th>\n",
       "      <td>0.812500</td>\n",
       "    </tr>\n",
       "    <tr>\n",
       "      <th>473</th>\n",
       "      <td>0.687500</td>\n",
       "    </tr>\n",
       "    <tr>\n",
       "      <th>474</th>\n",
       "      <td>0.800000</td>\n",
       "    </tr>\n",
       "    <tr>\n",
       "      <th>481</th>\n",
       "      <td>0.918919</td>\n",
       "    </tr>\n",
       "    <tr>\n",
       "      <th>482</th>\n",
       "      <td>0.783333</td>\n",
       "    </tr>\n",
       "    <tr>\n",
       "      <th>483</th>\n",
       "      <td>0.906250</td>\n",
       "    </tr>\n",
       "    <tr>\n",
       "      <th>486</th>\n",
       "      <td>0.777778</td>\n",
       "    </tr>\n",
       "    <tr>\n",
       "      <th>490</th>\n",
       "      <td>0.777778</td>\n",
       "    </tr>\n",
       "    <tr>\n",
       "      <th>494</th>\n",
       "      <td>0.958333</td>\n",
       "    </tr>\n",
       "    <tr>\n",
       "      <th>495</th>\n",
       "      <td>0.790698</td>\n",
       "    </tr>\n",
       "    <tr>\n",
       "      <th>498</th>\n",
       "      <td>0.838710</td>\n",
       "    </tr>\n",
       "    <tr>\n",
       "      <th>499</th>\n",
       "      <td>0.848485</td>\n",
       "    </tr>\n",
       "    <tr>\n",
       "      <th>500</th>\n",
       "      <td>0.583333</td>\n",
       "    </tr>\n",
       "    <tr>\n",
       "      <th>501</th>\n",
       "      <td>0.795918</td>\n",
       "    </tr>\n",
       "    <tr>\n",
       "      <th>505</th>\n",
       "      <td>0.866667</td>\n",
       "    </tr>\n",
       "  </tbody>\n",
       "</table>\n",
       "<p>319 rows × 1 columns</p>\n",
       "</div>"
      ],
      "text/plain": [
       "         avg_enrollment\n",
       "village                \n",
       "1              0.809917\n",
       "2              0.714286\n",
       "4              0.946058\n",
       "5              0.976744\n",
       "6              0.903846\n",
       "7              0.875000\n",
       "8              0.851852\n",
       "9              0.777778\n",
       "10             0.761905\n",
       "11             0.841837\n",
       "12             0.962264\n",
       "14             0.651685\n",
       "15             0.847826\n",
       "17             0.920000\n",
       "18             0.987342\n",
       "19             0.888889\n",
       "21             0.741379\n",
       "23             0.923077\n",
       "24             0.979592\n",
       "25             0.914286\n",
       "29             0.977778\n",
       "33             0.790323\n",
       "34             0.909091\n",
       "35             0.911765\n",
       "36             0.909091\n",
       "38             0.879121\n",
       "39             1.000000\n",
       "41             0.921053\n",
       "42             0.835616\n",
       "44             0.904762\n",
       "...                 ...\n",
       "447            0.936170\n",
       "448            0.923077\n",
       "450            0.782609\n",
       "452            0.815789\n",
       "453            0.844444\n",
       "454            0.833333\n",
       "455            0.968750\n",
       "457            0.938462\n",
       "458            0.951220\n",
       "460            0.938776\n",
       "462            0.925926\n",
       "467            0.875000\n",
       "468            0.838710\n",
       "469            0.864865\n",
       "471            1.000000\n",
       "472            0.812500\n",
       "473            0.687500\n",
       "474            0.800000\n",
       "481            0.918919\n",
       "482            0.783333\n",
       "483            0.906250\n",
       "486            0.777778\n",
       "490            0.777778\n",
       "494            0.958333\n",
       "495            0.790698\n",
       "498            0.838710\n",
       "499            0.848485\n",
       "500            0.583333\n",
       "501            0.795918\n",
       "505            0.866667\n",
       "\n",
       "[319 rows x 1 columns]"
      ]
     },
     "execution_count": 9,
     "metadata": {},
     "output_type": "execute_result"
    }
   ],
   "source": [
    "#Pull Poor and Treated \n",
    "poor_treated= pp_df[pp_df.poor == 'pobre']\n",
    "poor_treated=poor_treated[poor_treated.progresa=='basal']\n",
    "\n",
    "#Filter by year\n",
    "enroll_97 = poor_treated[poor_treated.year==97]\n",
    "enroll_98 = poor_treated[poor_treated.year==98]\n",
    "\n",
    "#calculate average villiage enrollments 97\n",
    "enrolled_97 = pd.DataFrame()\n",
    "enrolled_97['avg_enrollment'] = enroll_97.groupby('village')['sc'].mean()\n",
    "\n",
    "#calculate average village enrollments 98\n",
    "enrolled_98 = pd.DataFrame()\n",
    "enrolled_98['avg_enrollment'] = enroll_98.groupby('village')['sc'].mean()\n",
    "enrolled_98"
   ]
  },
  {
   "cell_type": "code",
   "execution_count": 10,
   "metadata": {
    "collapsed": false
   },
   "outputs": [],
   "source": [
    "# create enrolled_97 plot\n",
    "x= np.array(enrolled_97.avg_enrollment)\n",
    "\n",
    "#create enrolled_98 plot\n",
    "x2 = np.array(enrolled_98.avg_enrollment)"
   ]
  },
  {
   "cell_type": "code",
   "execution_count": 11,
   "metadata": {
    "collapsed": false
   },
   "outputs": [
    {
     "data": {
      "text/plain": [
       "<matplotlib.text.Text at 0x111fcc978>"
      ]
     },
     "execution_count": 11,
     "metadata": {},
     "output_type": "execute_result"
    },
    {
     "data": {
      "image/png": "[encoded data removed]",
      "text/plain": [
       "<matplotlib.figure.Figure at 0x111e88128>"
      ]
     },
     "metadata": {},
     "output_type": "display_data"
    }
   ],
   "source": [
    "#plot 97 \n",
    "plot_97 = plt.hist(x)\n",
    "plt.axvline(x.mean(), color='r', linestyle='dashed', linewidth=2)\n",
    "\n",
    "#labels\n",
    "plt.title('Distribution of average enrollment rate 1997')\n",
    "\n",
    "plt.ylabel('Average enrollment Rate')\n"
   ]
  },
  {
   "cell_type": "code",
   "execution_count": 12,
   "metadata": {
    "collapsed": false
   },
   "outputs": [
    {
     "data": {
      "text/plain": [
       "<matplotlib.text.Text at 0x111fcc048>"
      ]
     },
     "execution_count": 12,
     "metadata": {},
     "output_type": "execute_result"
    },
    {
     "data": {
      "image/png": "[encoded data removed]",
      "text/plain": [
       "<matplotlib.figure.Figure at 0x112fe4518>"
      ]
     },
     "metadata": {},
     "output_type": "display_data"
    }
   ],
   "source": [
    "#plot 98\n",
    "plot_98 = plt.hist(x2)\n",
    "plt.axvline(x2.mean(), color='r', linestyle='dashed', linewidth=2)\n",
    "\n",
    "#labels\n",
    "plt.title('Distribution of Average Enrollment Rates 1998')\n",
    "plt.ylabel('Average Enrollment Rate')\n"
   ]
  },
  {
   "cell_type": "code",
   "execution_count": 13,
   "metadata": {
    "collapsed": false
   },
   "outputs": [
    {
     "data": {
      "text/plain": [
       "Ttest_indResult(statistic=-2.5636087966029333, pvalue=0.010587739721624679)"
      ]
     },
     "execution_count": 13,
     "metadata": {},
     "output_type": "execute_result"
    }
   ],
   "source": [
    "#Calculate significance with t test\n",
    "scipy.stats.ttest_ind(x,x2,axis = 0,equal_var=True)"
   ]
  },
  {
   "cell_type": "markdown",
   "metadata": {
    "ein.tags": [
     "worksheet-0"
    ],
    "slideshow": {
     "slide_type": "-"
    }
   },
   "source": [
    "## Part 2: Measuring Impact\n",
    "\n",
    "### 2.1 Simple differences: T-test\n",
    "\n",
    "Start out by estimating the impact of Progresa using \"simple differences.\" Restricting yourself to data from 1998 (after treatment).\n",
    "* calculate the average enrollment rate among **poor** households in the Treatment villages and the average enrollment rate among **poor** households in the control villages.\n",
    "* Which difference estimator in Schultz (2004) does this approach correspond to?\n",
    "* Use a t-test to determine if this difference is statistically significant. What do you conclude?"
   ]
  },
  {
   "cell_type": "markdown",
   "metadata": {},
   "source": [
    "The average enrollment for poor households in treatment villages is .833. The average enrollment for poor households in control villages is .808.\n",
    "\n",
    "This approach corresponds to the D2 difference estimator.\n",
    "\n",
    "After doing the t-test, I found the p-value to be 0.006, which means the difference is statistically significant."
   ]
  },
  {
   "cell_type": "code",
   "execution_count": 14,
   "metadata": {
    "autoscroll": "json-false",
    "collapsed": false,
    "ein.tags": [
     "worksheet-0"
    ],
    "slideshow": {
     "slide_type": "-"
    }
   },
   "outputs": [
    {
     "name": "stdout",
     "output_type": "stream",
     "text": [
      "Average enrollment for poor households in Treatment Villages 0.8337415033712263\n",
      "Average enrollment for poor households in Control Villages 0.8086240746137184\n"
     ]
    }
   ],
   "source": [
    "# filter for Poor and 1998\n",
    "simp_dif= pp_df[pp_df.poor == 'pobre']\n",
    "simp_dif = simp_dif[simp_dif.year==98]\n",
    "\n",
    "#filter for Poor treatment\n",
    "treated_poor_98=simp_dif[simp_dif.progresa=='basal']\n",
    "treated_mean = treated_poor_98.groupby('village')['sc'].mean()\n",
    "print('Average enrollment for poor households in Treatment Villages', treated_mean.mean())\n",
    "\n",
    "#filter for Poor Control\n",
    "untreated_poor_98=simp_dif[simp_dif.progresa=='0']\n",
    "untreated_mean = untreated_poor_98.groupby('village')['sc'].mean()\n",
    "print('Average enrollment for poor households in Control Villages', untreated_mean.mean())\n",
    "\n"
   ]
  },
  {
   "cell_type": "code",
   "execution_count": 15,
   "metadata": {
    "collapsed": false
   },
   "outputs": [
    {
     "data": {
      "text/plain": [
       "Ttest_indResult(statistic=2.7087610827588358, pvalue=0.0069850909415748053)"
      ]
     },
     "execution_count": 15,
     "metadata": {},
     "output_type": "execute_result"
    }
   ],
   "source": [
    "#t-test\n",
    "scipy.stats.ttest_ind(treated_mean, untreated_mean,axis = 0,equal_var=True)"
   ]
  },
  {
   "cell_type": "markdown",
   "metadata": {
    "ein.tags": [
     "worksheet-0"
    ],
    "slideshow": {
     "slide_type": "-"
    }
   },
   "source": [
    "### 2.2 Simple differences: Regression\n",
    "\n",
    "Estimate the effects of Progresa on enrollment using a regression model, by regressing the 1998 enrollment rates **of the poor** on treatment assignment. Discuss the following:\n",
    "\n",
    "* Based on this model, how much did Progresa increase the likelihood of a child enrolling?\n",
    "* How does your regression estimate compare to your t-test estimate from part 2.1?\n",
    "* Based on this regression model, can we reject the null hypothesis that the treatment effects are zero? \n",
    "* What is the counterfactual assumption underlying this regression?"
   ]
  },
  {
   "cell_type": "markdown",
   "metadata": {},
   "source": [
    " Treatment increased the odds of enrollment by .0388.\n",
    " \n",
    " The regression shows a much smaller estimate of impact than the ttest estimate in part 2.1, which was 2.7.\n",
    " \n",
    " The results of the regression model tell us we can reject the null hypothesis that the treament effects are 0.\n",
    " \n",
    " The counterfactual assumption underlying this regression is that without the treatment, we would have to accept the null hypothesis in expecting the treatment effect to be 0. "
   ]
  },
  {
   "cell_type": "code",
   "execution_count": 16,
   "metadata": {
    "autoscroll": "json-false",
    "collapsed": false,
    "ein.tags": [
     "worksheet-0"
    ],
    "slideshow": {
     "slide_type": "-"
    }
   },
   "outputs": [
    {
     "name": "stdout",
     "output_type": "stream",
     "text": [
      "   treatment_0  treatment_basal\n",
      "1            1                0\n",
      "3            1                0\n",
      "5            1                0\n",
      "7            0                1\n",
      "9            0                1\n"
     ]
    },
    {
     "data": {
      "text/html": [
       "<table class=\"simpletable\">\n",
       "<caption>OLS Regression Results</caption>\n",
       "<tr>\n",
       "  <th>Dep. Variable:</th>           <td>sc</td>        <th>  R-squared:         </th> <td>   0.003</td> \n",
       "</tr>\n",
       "<tr>\n",
       "  <th>Model:</th>                   <td>OLS</td>       <th>  Adj. R-squared:    </th> <td>   0.002</td> \n",
       "</tr>\n",
       "<tr>\n",
       "  <th>Method:</th>             <td>Least Squares</td>  <th>  F-statistic:       </th> <td>   65.64</td> \n",
       "</tr>\n",
       "<tr>\n",
       "  <th>Date:</th>             <td>Sun, 02 Jul 2017</td> <th>  Prob (F-statistic):</th> <td>5.66e-16</td> \n",
       "</tr>\n",
       "<tr>\n",
       "  <th>Time:</th>                 <td>14:34:34</td>     <th>  Log-Likelihood:    </th> <td> -11171.</td> \n",
       "</tr>\n",
       "<tr>\n",
       "  <th>No. Observations:</th>      <td> 26155</td>      <th>  AIC:               </th> <td>2.235e+04</td>\n",
       "</tr>\n",
       "<tr>\n",
       "  <th>Df Residuals:</th>          <td> 26153</td>      <th>  BIC:               </th> <td>2.236e+04</td>\n",
       "</tr>\n",
       "<tr>\n",
       "  <th>Df Model:</th>              <td>     1</td>      <th>                     </th>     <td> </td>    \n",
       "</tr>\n",
       "<tr>\n",
       "  <th>Covariance Type:</th>      <td>nonrobust</td>    <th>                     </th>     <td> </td>    \n",
       "</tr>\n",
       "</table>\n",
       "<table class=\"simpletable\">\n",
       "<tr>\n",
       "         <td></td>            <th>coef</th>     <th>std err</th>      <th>t</th>      <th>P>|t|</th> <th>[95.0% Conf. Int.]</th> \n",
       "</tr>\n",
       "<tr>\n",
       "  <th>Intercept</th>       <td>    0.8109</td> <td>    0.004</td> <td>  217.190</td> <td> 0.000</td> <td>    0.804     0.818</td>\n",
       "</tr>\n",
       "<tr>\n",
       "  <th>treatment_basal</th> <td>    0.0383</td> <td>    0.005</td> <td>    8.102</td> <td> 0.000</td> <td>    0.029     0.048</td>\n",
       "</tr>\n",
       "</table>\n",
       "<table class=\"simpletable\">\n",
       "<tr>\n",
       "  <th>Omnibus:</th>       <td>7487.800</td> <th>  Durbin-Watson:     </th> <td>   1.734</td> \n",
       "</tr>\n",
       "<tr>\n",
       "  <th>Prob(Omnibus):</th>  <td> 0.000</td>  <th>  Jarque-Bera (JB):  </th> <td>15756.374</td>\n",
       "</tr>\n",
       "<tr>\n",
       "  <th>Skew:</th>           <td>-1.796</td>  <th>  Prob(JB):          </th> <td>    0.00</td> \n",
       "</tr>\n",
       "<tr>\n",
       "  <th>Kurtosis:</th>       <td> 4.245</td>  <th>  Cond. No.          </th> <td>    3.02</td> \n",
       "</tr>\n",
       "</table>"
      ],
      "text/plain": [
       "<class 'statsmodels.iolib.summary.Summary'>\n",
       "\"\"\"\n",
       "                            OLS Regression Results                            \n",
       "==============================================================================\n",
       "Dep. Variable:                     sc   R-squared:                       0.003\n",
       "Model:                            OLS   Adj. R-squared:                  0.002\n",
       "Method:                 Least Squares   F-statistic:                     65.64\n",
       "Date:                Sun, 02 Jul 2017   Prob (F-statistic):           5.66e-16\n",
       "Time:                        14:34:34   Log-Likelihood:                -11171.\n",
       "No. Observations:               26155   AIC:                         2.235e+04\n",
       "Df Residuals:                   26153   BIC:                         2.236e+04\n",
       "Df Model:                           1                                         \n",
       "Covariance Type:            nonrobust                                         \n",
       "===================================================================================\n",
       "                      coef    std err          t      P>|t|      [95.0% Conf. Int.]\n",
       "-----------------------------------------------------------------------------------\n",
       "Intercept           0.8109      0.004    217.190      0.000         0.804     0.818\n",
       "treatment_basal     0.0383      0.005      8.102      0.000         0.029     0.048\n",
       "==============================================================================\n",
       "Omnibus:                     7487.800   Durbin-Watson:                   1.734\n",
       "Prob(Omnibus):                  0.000   Jarque-Bera (JB):            15756.374\n",
       "Skew:                          -1.796   Prob(JB):                         0.00\n",
       "Kurtosis:                       4.245   Cond. No.                         3.02\n",
       "==============================================================================\n",
       "\n",
       "Warnings:\n",
       "[1] Standard Errors assume that the covariance matrix of the errors is correctly specified.\n",
       "\"\"\""
      ]
     },
     "execution_count": 16,
     "metadata": {},
     "output_type": "execute_result"
    }
   ],
   "source": [
    "#filter by 1998 & poor\n",
    "simp_dif= pp_df[pp_df.poor == 'pobre']\n",
    "simp_dif = simp_dif[simp_dif.year==98]\n",
    "\n",
    "#create dummy variable\n",
    "dummy_treatment = pd.get_dummies(simp_dif['progresa'], prefix='treatment')\n",
    "print (dummy_treatment.head())\n",
    "\n",
    "# create new df add dummies\n",
    "model_df = pd.DataFrame(simp_dif).join(dummy_treatment)\n",
    "\n",
    "\n",
    "#linear regression\n",
    "simp_lm = smf.ols(formula = 'sc ~ treatment_basal',data=model_df).fit()\n",
    "simp_lm.summary()\n"
   ]
  },
  {
   "cell_type": "markdown",
   "metadata": {
    "ein.tags": [
     "worksheet-0"
    ],
    "slideshow": {
     "slide_type": "-"
    }
   },
   "source": [
    "### 2.3 Multiple Regression\n",
    "\n",
    "Re-run the above regression estimated but this time include a set of control variables. Include, for instance, age, distance to a secondary school, gender, education of household head, indigenous, etc.\n",
    "\n",
    "* How do the controls affect the point estimate of treatment effect?\n",
    "* How do the controls affect the standard error on the treatment effect? \n",
    "* How do you interpret the differences (or similarities) between your estimates of 2.2 and 2.3?"
   ]
  },
  {
   "cell_type": "markdown",
   "metadata": {},
   "source": [
    "The controls reduce the point estimate of the treatment effect from .0388 to .0358.\n",
    "\n",
    "The controls did not impact the standard error.  Both have SE's of .005.\n",
    "\n",
    "The differences are so slight in the point estimates of the treatment effect, with the same standard error, which shows us that with the same amount of error,the point estimates remain very close.  Essentially, the other control variables added to the regression model didn't significantly impact either the error or the treatment effect."
   ]
  },
  {
   "cell_type": "code",
   "execution_count": 17,
   "metadata": {
    "autoscroll": "json-false",
    "collapsed": false,
    "ein.tags": [
     "worksheet-0"
    ],
    "slideshow": {
     "slide_type": "-"
    }
   },
   "outputs": [
    {
     "data": {
      "text/html": [
       "<table class=\"simpletable\">\n",
       "<caption>OLS Regression Results</caption>\n",
       "<tr>\n",
       "  <th>Dep. Variable:</th>           <td>sc</td>        <th>  R-squared:         </th> <td>   0.020</td> \n",
       "</tr>\n",
       "<tr>\n",
       "  <th>Model:</th>                   <td>OLS</td>       <th>  Adj. R-squared:    </th> <td>   0.020</td> \n",
       "</tr>\n",
       "<tr>\n",
       "  <th>Method:</th>             <td>Least Squares</td>  <th>  F-statistic:       </th> <td>   90.81</td> \n",
       "</tr>\n",
       "<tr>\n",
       "  <th>Date:</th>             <td>Sun, 02 Jul 2017</td> <th>  Prob (F-statistic):</th> <td>2.85e-113</td>\n",
       "</tr>\n",
       "<tr>\n",
       "  <th>Time:</th>                 <td>14:34:42</td>     <th>  Log-Likelihood:    </th> <td> -10934.</td> \n",
       "</tr>\n",
       "<tr>\n",
       "  <th>No. Observations:</th>      <td> 26155</td>      <th>  AIC:               </th> <td>2.188e+04</td>\n",
       "</tr>\n",
       "<tr>\n",
       "  <th>Df Residuals:</th>          <td> 26148</td>      <th>  BIC:               </th> <td>2.194e+04</td>\n",
       "</tr>\n",
       "<tr>\n",
       "  <th>Df Model:</th>              <td>     6</td>      <th>                     </th>     <td> </td>    \n",
       "</tr>\n",
       "<tr>\n",
       "  <th>Covariance Type:</th>      <td>nonrobust</td>    <th>                     </th>     <td> </td>    \n",
       "</tr>\n",
       "</table>\n",
       "<table class=\"simpletable\">\n",
       "<tr>\n",
       "         <td></td>            <th>coef</th>     <th>std err</th>      <th>t</th>      <th>P>|t|</th> <th>[95.0% Conf. Int.]</th> \n",
       "</tr>\n",
       "<tr>\n",
       "  <th>Intercept</th>       <td>    0.8691</td> <td>    0.015</td> <td>   59.837</td> <td> 0.000</td> <td>    0.841     0.898</td>\n",
       "</tr>\n",
       "<tr>\n",
       "  <th>treatment_basal</th> <td>    0.0364</td> <td>    0.005</td> <td>    7.748</td> <td> 0.000</td> <td>    0.027     0.046</td>\n",
       "</tr>\n",
       "<tr>\n",
       "  <th>hohedu</th>          <td>    0.0164</td> <td>    0.001</td> <td>   17.890</td> <td> 0.000</td> <td>    0.015     0.018</td>\n",
       "</tr>\n",
       "<tr>\n",
       "  <th>hohwag</th>          <td>-2.122e-06</td> <td> 3.24e-06</td> <td>   -0.655</td> <td> 0.513</td> <td>-8.48e-06  4.23e-06</td>\n",
       "</tr>\n",
       "<tr>\n",
       "  <th>welfare_index</th>   <td>   -0.0001</td> <td>    2e-05</td> <td>   -6.987</td> <td> 0.000</td> <td>   -0.000    -0.000</td>\n",
       "</tr>\n",
       "<tr>\n",
       "  <th>sex</th>             <td>    0.0254</td> <td>    0.005</td> <td>    5.577</td> <td> 0.000</td> <td>    0.016     0.034</td>\n",
       "</tr>\n",
       "<tr>\n",
       "  <th>dist_sec</th>        <td>   -0.0093</td> <td>    0.001</td> <td>   -8.625</td> <td> 0.000</td> <td>   -0.011    -0.007</td>\n",
       "</tr>\n",
       "</table>\n",
       "<table class=\"simpletable\">\n",
       "<tr>\n",
       "  <th>Omnibus:</th>       <td>7207.880</td> <th>  Durbin-Watson:     </th> <td>   1.748</td> \n",
       "</tr>\n",
       "<tr>\n",
       "  <th>Prob(Omnibus):</th>  <td> 0.000</td>  <th>  Jarque-Bera (JB):  </th> <td>14789.037</td>\n",
       "</tr>\n",
       "<tr>\n",
       "  <th>Skew:</th>           <td>-1.744</td>  <th>  Prob(JB):          </th> <td>    0.00</td> \n",
       "</tr>\n",
       "<tr>\n",
       "  <th>Kurtosis:</th>       <td> 4.183</td>  <th>  Cond. No.          </th> <td>6.58e+03</td> \n",
       "</tr>\n",
       "</table>"
      ],
      "text/plain": [
       "<class 'statsmodels.iolib.summary.Summary'>\n",
       "\"\"\"\n",
       "                            OLS Regression Results                            \n",
       "==============================================================================\n",
       "Dep. Variable:                     sc   R-squared:                       0.020\n",
       "Model:                            OLS   Adj. R-squared:                  0.020\n",
       "Method:                 Least Squares   F-statistic:                     90.81\n",
       "Date:                Sun, 02 Jul 2017   Prob (F-statistic):          2.85e-113\n",
       "Time:                        14:34:42   Log-Likelihood:                -10934.\n",
       "No. Observations:               26155   AIC:                         2.188e+04\n",
       "Df Residuals:                   26148   BIC:                         2.194e+04\n",
       "Df Model:                           6                                         \n",
       "Covariance Type:            nonrobust                                         \n",
       "===================================================================================\n",
       "                      coef    std err          t      P>|t|      [95.0% Conf. Int.]\n",
       "-----------------------------------------------------------------------------------\n",
       "Intercept           0.8691      0.015     59.837      0.000         0.841     0.898\n",
       "treatment_basal     0.0364      0.005      7.748      0.000         0.027     0.046\n",
       "hohedu              0.0164      0.001     17.890      0.000         0.015     0.018\n",
       "hohwag          -2.122e-06   3.24e-06     -0.655      0.513     -8.48e-06  4.23e-06\n",
       "welfare_index      -0.0001      2e-05     -6.987      0.000        -0.000    -0.000\n",
       "sex                 0.0254      0.005      5.577      0.000         0.016     0.034\n",
       "dist_sec           -0.0093      0.001     -8.625      0.000        -0.011    -0.007\n",
       "==============================================================================\n",
       "Omnibus:                     7207.880   Durbin-Watson:                   1.748\n",
       "Prob(Omnibus):                  0.000   Jarque-Bera (JB):            14789.037\n",
       "Skew:                          -1.744   Prob(JB):                         0.00\n",
       "Kurtosis:                       4.183   Cond. No.                     6.58e+03\n",
       "==============================================================================\n",
       "\n",
       "Warnings:\n",
       "[1] Standard Errors assume that the covariance matrix of the errors is correctly specified.\n",
       "[2] The condition number is large, 6.58e+03. This might indicate that there are\n",
       "strong multicollinearity or other numerical problems.\n",
       "\"\"\""
      ]
     },
     "execution_count": 17,
     "metadata": {},
     "output_type": "execute_result"
    }
   ],
   "source": [
    "\n",
    "#Multiple regression\n",
    "simp_lm = smf.ols(formula = 'sc ~ treatment_basal+hohedu + hohwag +welfare_index + sex + dist_sec',data=model_df).fit()\n",
    "simp_lm.summary()"
   ]
  },
  {
   "cell_type": "markdown",
   "metadata": {
    "ein.tags": [
     "worksheet-0"
    ],
    "slideshow": {
     "slide_type": "-"
    }
   },
   "source": [
    "### 2.4 Difference-in-Difference, version 1 (tabular)\n",
    "\n",
    "Thus far, we have computed the effects of Progresa by estimating the difference in 1998 enrollment rates across villages. An alternative approach would be to compute the treatment effect using a difference-in-differences framework.\n",
    "\n",
    "Begin by estimating the average treatment effects of the program for poor households using data from 1997 and 1998. Specifically, calculate the difference (between 1997 and 1998) in enrollment rates among poor households in treated villages; then compute the difference (between 1997 and 1998) in enrollment rates among poor households in treated villages. The difference between these two differences is your estimate.\n",
    "\n",
    "* What is your estimate of the impact, and how does it compare to your earlier (simple difference) results?\n",
    "* What is the counterfactual assumption underlying this estimate? \n"
   ]
  },
  {
   "cell_type": "markdown",
   "metadata": {},
   "source": [
    "The estimate of impact is .03133 , which is slightly lower than simple dif. regression estimate of .0388.\n",
    "The counterfactual assumption is that the treatment is the only thing impacting enrollment."
   ]
  },
  {
   "cell_type": "code",
   "execution_count": 18,
   "metadata": {
    "autoscroll": "json-false",
    "collapsed": false,
    "ein.tags": [
     "worksheet-0"
    ],
    "slideshow": {
     "slide_type": "-"
    }
   },
   "outputs": [],
   "source": [
    "# filter poor 97 \n",
    "simp_dif_97= pp_df[pp_df.poor == 'pobre']\n",
    "simp_dif_97= simp_dif_97[simp_dif_97.year==97]\n",
    "\n",
    "#filter treated/untreated 97\n",
    "tp_97=simp_dif_97[simp_dif_97.progresa=='basal']\n",
    "utp_97=simp_dif_97[simp_dif_97.progresa=='0']\n",
    "\n",
    "#filter poor 98\n",
    "simp_dif_98= pp_df[pp_df.poor == 'pobre']\n",
    "simp_dif_98= simp_dif_98[simp_dif_98.year==98]\n",
    "\n",
    "#filter treated/untreated 98\n",
    "tp_98=simp_dif_98[simp_dif_98.progresa=='basal']\n",
    "utp_98=simp_dif_98[simp_dif_98.progresa=='0']"
   ]
  },
  {
   "cell_type": "code",
   "execution_count": 19,
   "metadata": {
    "collapsed": false
   },
   "outputs": [
    {
     "name": "stdout",
     "output_type": "stream",
     "text": [
      "0.822696523152761 0.8150655583169081 0.849257030578411 0.810923092511906\n"
     ]
    }
   ],
   "source": [
    "#calculate 97 averages\n",
    "treated_97_mean = tp_97['sc'].mean()\n",
    "\n",
    "\n",
    "untreated_97_mean = utp_97['sc'].mean()\n",
    "\n",
    "\n",
    "#calculate 98 averages\n",
    "treated_98_mean = tp_98['sc'].mean()\n",
    "\n",
    "\n",
    "untreated_98_mean = utp_98['sc'].mean()\n",
    "\n",
    "\n",
    "print(treated_97_mean, untreated_97_mean, treated_98_mean,untreated_98_mean)\n",
    "\n"
   ]
  },
  {
   "cell_type": "code",
   "execution_count": 20,
   "metadata": {
    "collapsed": false
   },
   "outputs": [
    {
     "name": "stdout",
     "output_type": "stream",
     "text": [
      "0.030702973230652075\n",
      "0.02656050742564997 -0.004142465805002105\n"
     ]
    }
   ],
   "source": [
    "#calculate diff-in-diff treatment\n",
    "dif_t = treated_98_mean - treated_97_mean\n",
    "\n",
    "#calculate diff in diff control\n",
    "dif_c = untreated_98_mean - untreated_97_mean\n",
    "\n",
    "#diff in diff\n",
    "dif_dif = dif_t - dif_c\n",
    "\n",
    "print(dif_dif)\n",
    "print(dif_t,dif_c)\n"
   ]
  },
  {
   "cell_type": "markdown",
   "metadata": {
    "ein.tags": [
     "worksheet-0"
    ],
    "slideshow": {
     "slide_type": "-"
    }
   },
   "source": [
    "### 2.5 Difference-in-Difference, version 1 (regression)\n",
    "\n",
    "Now use a regression specification to estimate the average treatment effect of the program (on the poor) in a difference-in-differences framework. Include at least 5 control variables.\n",
    "\n",
    "* What is your estimate of the impact of Progresa? Be very specific in interpreting your coefficients and standard errors, and make sure to specify exactly what units you are measuring and estimating.\n",
    "* How do these estimates of the treatment effect compare to the estimates based on the simple difference?\n",
    "* How do these estimates compare to the difference-in-difference estimates from 2.4 above? What accounts for these differences?\n",
    "* What is the counterfactual assumption underlying this regression? "
   ]
  },
  {
   "cell_type": "markdown",
   "metadata": {},
   "source": [
    "The estimate of the impact of Progresa can be seen in the Year:treatment_basal coefficient in the output. That number is .0307.  The standard error associated with it is extremely low at .006.  That means that with very small chance of error, we can say that the average treatment effect of the program .0307. In other words the treatment increased the likelihood of enrollment by .0307.\n",
    "\n",
    "The simple difference calculated that the treatment effect was ever so slightly higher, and with .001 less of a standard error rate compared to these estimates.\n",
    "\n",
    "These estimates are also slightly smaller than the difference -to-difference estimates in 2.4, where the estimate was .03133 for treatment effect.\n",
    "\n",
    "The counterfactual assumption is that treatment would not impact enrollment."
   ]
  },
  {
   "cell_type": "code",
   "execution_count": 21,
   "metadata": {
    "autoscroll": "json-false",
    "collapsed": false,
    "ein.tags": [
     "worksheet-0"
    ],
    "slideshow": {
     "slide_type": "-"
    }
   },
   "outputs": [],
   "source": [
    "temp_df = pp_df\n",
    "\n",
    "#create dummy variable\n",
    "dummy_treatment2 = pd.get_dummies(temp_df['progresa'], prefix='treatment')\n",
    "\n",
    "# create new dfs add dummies\n",
    "dum_df = pd.DataFrame(temp_df).join(dummy_treatment2)\n",
    "#print(dum_df)\n",
    "\n",
    "# Subset to poor\n",
    "subset_poor = dum_df[(dum_df[\"poor\"] == 'pobre')]\n",
    "\n",
    "\n"
   ]
  },
  {
   "cell_type": "code",
   "execution_count": 22,
   "metadata": {
    "collapsed": false
   },
   "outputs": [
    {
     "name": "stdout",
     "output_type": "stream",
     "text": [
      "                            OLS Regression Results                            \n",
      "==============================================================================\n",
      "Dep. Variable:                     sc   R-squared:                       0.022\n",
      "Model:                            OLS   Adj. R-squared:                  0.022\n",
      "Method:                 Least Squares   F-statistic:                     160.7\n",
      "Date:                Sun, 02 Jul 2017   Prob (F-statistic):          3.01e-269\n",
      "Time:                        14:35:20   Log-Likelihood:                -24820.\n",
      "No. Observations:               56893   AIC:                         4.966e+04\n",
      "Df Residuals:                   56884   BIC:                         4.974e+04\n",
      "Df Model:                           8                                         \n",
      "Covariance Type:            nonrobust                                         \n",
      "========================================================================================\n",
      "                           coef    std err          t      P>|t|      [95.0% Conf. Int.]\n",
      "----------------------------------------------------------------------------------------\n",
      "Intercept                1.4168      0.499      2.839      0.005         0.438     2.395\n",
      "year                    -0.0057      0.005     -1.105      0.269        -0.016     0.004\n",
      "treatment_basal         -2.9736      0.633     -4.699      0.000        -4.214    -1.733\n",
      "year:treatment_basal     0.0307      0.006      4.730      0.000         0.018     0.043\n",
      "dist_sec                -0.0089      0.001    -11.985      0.000        -0.010    -0.007\n",
      "indig                    0.0449      0.003     13.328      0.000         0.038     0.052\n",
      "hohedu                   0.0160      0.001     25.537      0.000         0.015     0.017\n",
      "sex                      0.0292      0.003      9.304      0.000         0.023     0.035\n",
      "welfare_index           -0.0002   1.39e-05    -11.313      0.000        -0.000    -0.000\n",
      "==============================================================================\n",
      "Omnibus:                    14464.405   Durbin-Watson:                   1.410\n",
      "Prob(Omnibus):                  0.000   Jarque-Bera (JB):            28253.181\n",
      "Skew:                          -1.664   Prob(JB):                         0.00\n",
      "Kurtosis:                       3.915   Cond. No.                     3.30e+05\n",
      "==============================================================================\n",
      "\n",
      "Warnings:\n",
      "[1] Standard Errors assume that the covariance matrix of the errors is correctly specified.\n",
      "[2] The condition number is large, 3.3e+05. This might indicate that there are\n",
      "strong multicollinearity or other numerical problems.\n"
     ]
    }
   ],
   "source": [
    "# Create MLR\n",
    "MLR_year = smf.ols(formula = 'sc ~ year*treatment_basal + dist_sec + indig + hohedu + sex + welfare_index', data=subset_poor).fit()\n",
    "\n",
    "#print summary\n",
    "print(MLR_year.summary())\n"
   ]
  },
  {
   "cell_type": "markdown",
   "metadata": {
    "ein.tags": [
     "worksheet-0"
    ],
    "slideshow": {
     "slide_type": "-"
    }
   },
   "source": [
    "### 2.6 Difference-in-Difference, version 2\n",
    "\n",
    "In the previous problem, you estimated a difference-in-differences model that compared changes in enrollment rates over time across treatment and control villages. An alternative approach would be to compare enrollment rates in 1998 between poor and non-poor across treatment and control villages. \n",
    "\n",
    "* How would we estimate this version of the treatment effects in a regression model? \n",
    "* What is the counterfactual assumption underlying this regression?\n",
    "* How do these treatment effects compare to the estimates above?\n",
    "* Discuss some possible explanations for differences or similarities "
   ]
  },
  {
   "cell_type": "markdown",
   "metadata": {},
   "source": [
    "We would estimate this version of the treatment effects by filtering for year (1998), and comparing at the treatment effect of poor and non-poor villages.\n",
    "\n",
    "The counterfactual assumption underlying this regression is that the treatment will have a no more impact on poor villages, than on non-poor villages.\n",
    "\n",
    "The treatment effect (measured by poor:treatment_basal) is much larger at .017, than those above.\n",
    "\n",
    "One possible explanation for this is that in the discrepancy between enrollment in poor vs. not poor villages is much higher, therefore we would expect to see the treatment have a larger impact than it did in the previous regression (looking at treatment effect within poor villages as opposed to between poor and non-poor). "
   ]
  },
  {
   "cell_type": "code",
   "execution_count": 23,
   "metadata": {
    "autoscroll": "json-false",
    "collapsed": false,
    "ein.tags": [
     "worksheet-0"
    ],
    "slideshow": {
     "slide_type": "-"
    }
   },
   "outputs": [
    {
     "name": "stdout",
     "output_type": "stream",
     "text": [
      "                            OLS Regression Results                            \n",
      "==============================================================================\n",
      "Dep. Variable:                     sc   R-squared:                       0.026\n",
      "Model:                            OLS   Adj. R-squared:                  0.025\n",
      "Method:                 Least Squares   F-statistic:                     101.3\n",
      "Date:                Sun, 02 Jul 2017   Prob (F-statistic):          2.35e-167\n",
      "Time:                        14:35:29   Log-Likelihood:                -13119.\n",
      "No. Observations:               30665   AIC:                         2.626e+04\n",
      "Df Residuals:                   30656   BIC:                         2.633e+04\n",
      "Df Model:                           8                                         \n",
      "Covariance Type:            nonrobust                                         \n",
      "=================================================================================================\n",
      "                                    coef    std err          t      P>|t|      [95.0% Conf. Int.]\n",
      "-------------------------------------------------------------------------------------------------\n",
      "Intercept                         0.8055      0.019     42.482      0.000         0.768     0.843\n",
      "poor[T.pobre]                     0.0156      0.010      1.503      0.133        -0.005     0.036\n",
      "treatment_basal                   0.0233      0.011      2.066      0.039         0.001     0.045\n",
      "poor[T.pobre]:treatment_basal     0.0136      0.012      1.110      0.267        -0.010     0.038\n",
      "dist_sec                         -0.0100      0.001     -9.884      0.000        -0.012    -0.008\n",
      "indig                             0.0459      0.005      9.719      0.000         0.037     0.055\n",
      "hohedu                            0.0166      0.001     20.550      0.000         0.015     0.018\n",
      "sex                               0.0259      0.004      6.098      0.000         0.018     0.034\n",
      "welfare_index                 -9.032e-05   1.85e-05     -4.871      0.000        -0.000  -5.4e-05\n",
      "==============================================================================\n",
      "Omnibus:                     7946.827   Durbin-Watson:                   1.761\n",
      "Prob(Omnibus):                  0.000   Jarque-Bera (JB):            15683.578\n",
      "Skew:                          -1.680   Prob(JB):                         0.00\n",
      "Kurtosis:                       3.993   Cond. No.                     7.52e+03\n",
      "==============================================================================\n",
      "\n",
      "Warnings:\n",
      "[1] Standard Errors assume that the covariance matrix of the errors is correctly specified.\n",
      "[2] The condition number is large, 7.52e+03. This might indicate that there are\n",
      "strong multicollinearity or other numerical problems.\n"
     ]
    }
   ],
   "source": [
    "\n",
    "# Subset to year\n",
    "subset_year = dum_df[(dum_df[\"year\"] == 98)]\n",
    "\n",
    "# Create MLR\n",
    "MLR_poor = smf.ols(formula = 'sc ~ poor*treatment_basal + dist_sec + indig + hohedu + sex + welfare_index', data=subset_year).fit()\n",
    "\n",
    "#print summary\n",
    "print(MLR_poor.summary())"
   ]
  },
  {
   "cell_type": "markdown",
   "metadata": {
    "ein.tags": [
     "worksheet-0"
    ],
    "slideshow": {
     "slide_type": "-"
    }
   },
   "source": [
    "### 2.7 Spillover effects (extra credit)\n",
    "\n",
    "Thus far, we have focused on the impact of PROGRESA on poor households. Repeat your analysis in 2.5, using a double-difference regression to estimate the impact of PROGRESA on non-poor households. In other words, compare the difference in enrollments between 1997 and 1998 for non-poor households in treatment villages with the difference in enrollments between 1997 and 1998 for non-poor households in control villages.\n",
    "\n",
    "* A: Describe one or two reasons why PROGRESA might have impacted non-poor households.\n",
    "* B: Do you observe any impacts of PROGRESA on the non-poor?\n",
    "* C: What is the identifying assumption that you are using to estimate the impact of PROGRESA on non-poor households."
   ]
  },
  {
   "cell_type": "code",
   "execution_count": null,
   "metadata": {
    "autoscroll": "json-false",
    "collapsed": false,
    "ein.tags": [
     "worksheet-0"
    ],
    "slideshow": {
     "slide_type": "-"
    }
   },
   "outputs": [],
   "source": []
  },
  {
   "cell_type": "markdown",
   "metadata": {
    "ein.tags": [
     "worksheet-0"
    ],
    "slideshow": {
     "slide_type": "-"
    }
   },
   "source": [
    "### 2.8 Summary\n",
    "\n",
    "Based on all the analysis you have undertaken to date, do you thik that Progresa had a causal impact on the enrollment rates of poor households in Mexico?"
   ]
  },
  {
   "cell_type": "markdown",
   "metadata": {
    "autoscroll": "json-false",
    "collapsed": false,
    "ein.tags": [
     "worksheet-0"
    ],
    "slideshow": {
     "slide_type": "-"
    }
   },
   "source": [
    "Because The beta values for the treatment effect are larger than 0, we can say that we see some evidence that Progresa had a causal impact on the enrollment rates of poor households in Mexico. \n",
    "That said, the beta is very small in all cases, which makes it seem that we have to grapple with how big does the beta need to be in order to determine whether a causal impact exists.  "
   ]
  }
 ],
 "metadata": {
  "anaconda-cloud": {},
  "kernelspec": {
   "display_name": "Python [default]",
   "language": "python",
   "name": "python3"
  },
  "language_info": {
   "codemirror_mode": {
    "name": "ipython",
    "version": 3
   },
   "file_extension": ".py",
   "mimetype": "text/x-python",
   "name": "python",
   "nbconvert_exporter": "python",
   "pygments_lexer": "ipython3",
   "version": "3.5.2"
  },
  "name": "INFX574-PS2.ipynb"
 },
 "nbformat": 4,
 "nbformat_minor": 2
}
