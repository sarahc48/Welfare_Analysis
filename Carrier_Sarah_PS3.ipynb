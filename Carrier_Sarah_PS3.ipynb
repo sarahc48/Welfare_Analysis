{
 "cells": [
  {
   "cell_type": "markdown",
   "metadata": {},
   "source": [
    "# Problem Set 3, due February 10 at 11:59am (i.e., noon).\n",
    "\n",
    "###Before You Start\n",
    "\n",
    "Make sure the following libraries load correctly (hit Ctrl-Enter). Note that while you are loading several powerful libraries, including machine learning libraries, the goal of this problem set is to implement several algorithms from scratch. In particular, you should *not* be using any built-in libraries for nearest neighbors, distance metrics, or cross-validation -- your mission is to write those algorithms in Python! Parts 1 and 2 will be relatively easy; Part 3 will take more time.\n",
    "\n",
    "*Also note:* For this assignment we are requiring you to use base **matplotlib** - no more Seaborn or other packages. This will help you become familiar with techniques for maintaining fine-grained control over your data visualizations. It will also help our graders, who spent countless hours trying to make various versions import for grading."
   ]
  },
  {
   "cell_type": "code",
   "execution_count": 191,
   "metadata": {
    "collapsed": false
   },
   "outputs": [],
   "source": [
    "import IPython\n",
    "import numpy as np\n",
    "import scipy as sp\n",
    "import pandas as pd\n",
    "import matplotlib\n",
    "%matplotlib inline\n",
    "import sklearn\n",
    "import random"
   ]
  },
  {
   "cell_type": "markdown",
   "metadata": {},
   "source": [
    "---\n",
    "\n",
    "## Introduction to the assignment\n",
    "\n",
    "For this assignment, you will be using the [Boston Housing Prices Data Set](http://archive.ics.uci.edu/ml/datasets/Housing).  Please read about the dataset carefully before continuing.  Use the following commands to load the dataset:\n"
   ]
  },
  {
   "cell_type": "code",
   "execution_count": 192,
   "metadata": {
    "collapsed": false
   },
   "outputs": [],
   "source": [
    "from sklearn.datasets import load_boston\n",
    "bdata = load_boston()"
   ]
  },
  {
   "cell_type": "markdown",
   "metadata": {},
   "source": [
    "The following commands will provide some basic information about the shape of the data:"
   ]
  },
  {
   "cell_type": "code",
   "execution_count": 193,
   "metadata": {
    "collapsed": false
   },
   "outputs": [
    {
     "name": "stdout",
     "output_type": "stream",
     "text": [
      "dict_keys(['DESCR', 'target', 'feature_names', 'data'])\n",
      "['CRIM' 'ZN' 'INDUS' 'CHAS' 'NOX' 'RM' 'AGE' 'DIS' 'RAD' 'TAX' 'PTRATIO'\n",
      " 'B' 'LSTAT']\n",
      "(506, 13)\n",
      "(506,)\n",
      "Boston House Prices dataset\n",
      "\n",
      "Notes\n",
      "------\n",
      "Data Set Characteristics:  \n",
      "\n",
      "    :Number of Instances: 506 \n",
      "\n",
      "    :Number of Attributes: 13 numeric/categorical predictive\n",
      "    \n",
      "    :Median Value (attribute 14) is usually the target\n",
      "\n",
      "    :Attribute Information (in order):\n",
      "        - CRIM     per capita crime rate by town\n",
      "        - ZN       proportion of residential land zoned for lots over 25,000 sq.ft.\n",
      "        - INDUS    proportion of non-retail business acres per town\n",
      "        - CHAS     Charles River dummy variable (= 1 if tract bounds river; 0 otherwise)\n",
      "        - NOX      nitric oxides concentration (parts per 10 million)\n",
      "        - RM       average number of rooms per dwelling\n",
      "        - AGE      proportion of owner-occupied units built prior to 1940\n",
      "        - DIS      weighted distances to five Boston employment centres\n",
      "        - RAD      index of accessibility to radial highways\n",
      "        - TAX      full-value property-tax rate per $10,000\n",
      "        - PTRATIO  pupil-teacher ratio by town\n",
      "        - B        1000(Bk - 0.63)^2 where Bk is the proportion of blacks by town\n",
      "        - LSTAT    % lower status of the population\n",
      "        - MEDV     Median value of owner-occupied homes in $1000's\n",
      "\n",
      "    :Missing Attribute Values: None\n",
      "\n",
      "    :Creator: Harrison, D. and Rubinfeld, D.L.\n",
      "\n",
      "This is a copy of UCI ML housing dataset.\n",
      "http://archive.ics.uci.edu/ml/datasets/Housing\n",
      "\n",
      "\n",
      "This dataset was taken from the StatLib library which is maintained at Carnegie Mellon University.\n",
      "\n",
      "The Boston house-price data of Harrison, D. and Rubinfeld, D.L. 'Hedonic\n",
      "prices and the demand for clean air', J. Environ. Economics & Management,\n",
      "vol.5, 81-102, 1978.   Used in Belsley, Kuh & Welsch, 'Regression diagnostics\n",
      "...', Wiley, 1980.   N.B. Various transformations are used in the table on\n",
      "pages 244-261 of the latter.\n",
      "\n",
      "The Boston house-price data has been used in many machine learning papers that address regression\n",
      "problems.   \n",
      "     \n",
      "**References**\n",
      "\n",
      "   - Belsley, Kuh & Welsch, 'Regression diagnostics: Identifying Influential Data and Sources of Collinearity', Wiley, 1980. 244-261.\n",
      "   - Quinlan,R. (1993). Combining Instance-Based and Model-Based Learning. In Proceedings on the Tenth International Conference of Machine Learning, 236-243, University of Massachusetts, Amherst. Morgan Kaufmann.\n",
      "   - many more! (see http://archive.ics.uci.edu/ml/datasets/Housing)\n",
      "\n"
     ]
    }
   ],
   "source": [
    "print (bdata.keys())\n",
    "print (bdata.feature_names)\n",
    "print (bdata.data.shape)\n",
    "print (bdata.target.shape)\n",
    "# uncomment the following if you want to see a lengthy description of the dataset\n",
    "print (bdata.DESCR)"
   ]
  },
  {
   "cell_type": "markdown",
   "metadata": {},
   "source": [
    "---\n",
    "\n",
    "##Part 1: Descriptive analysis\n",
    "\n",
    "Before beginning the \"real\" work, dig into the data a bit do see what you're dealing with.  If you're new to analyzing data in Python, please make sure to read the relevant readings linked to on Canvas before beginning (for instance, [this one](https://github.com/jrjohansson/scientific-python-lectures)).\n",
    "\n",
    "###1.1: Histogram of housing prices\n",
    "\n",
    "Below you will find some very basic code to make a very basic histogram of median housing prices (the \"target\" variable) for your dataset.  Your first task is to make this graph look pretty by doing the following:\n",
    "\n",
    "1. Add appropriate labels to the x and y axes, make sure to include units\n",
    "2. Change the bin width on the histogram to be $1000\n",
    "3. Remove the axes on the top and right side of the plot window\n",
    "4. Change the color of the bars to be green, and remove the black borders from the bars\n"
   ]
  },
  {
   "cell_type": "code",
   "execution_count": 194,
   "metadata": {
    "collapsed": false
   },
   "outputs": [
    {
     "data": {
      "image/png": "[encoded data removed]",
      "text/plain": [
       "<matplotlib.figure.Figure at 0x120d47978>"
      ]
     },
     "metadata": {},
     "output_type": "display_data"
    }
   ],
   "source": [
    "# prepare IPython to work with matplotlib and import the library to something convenient  \n",
    "import matplotlib.pyplot as plt\n",
    "%matplotlib inline\n",
    "\n",
    "#set bins to 50, color green, remove bar borders\n",
    "ax = plt.axes()\n",
    "fig1 = plt.hist(bdata.target, bins=50, facecolor='green', edgecolor='none') \n",
    "plt.xlabel('Median Housing Prices ($1000s)') #annotate labels \n",
    "plt.ylabel('Home Count')\n",
    "plt.title('Median Housing Prices: Boston')\n",
    "ax.spines['right'].set_visible(False)\n",
    "ax.spines['top'].set_visible(False)\n",
    "ax.get_xaxis().tick_bottom()\n",
    "ax.get_yaxis().tick_left()\n",
    "\n",
    "\n"
   ]
  },
  {
   "cell_type": "markdown",
   "metadata": {},
   "source": [
    "###1.2: Scatter plot of housing prices and crime\n",
    "\n",
    "Use matplotlib to create a scatter plot that shows the relationship between the median value of the home (y-axis) and the per-capita crime rate (x-axis).  Properly label your axes, and make sure that your graphic looks polished and professional.\n"
   ]
  },
  {
   "cell_type": "code",
   "execution_count": 195,
   "metadata": {
    "collapsed": false
   },
   "outputs": [
    {
     "data": {
      "text/plain": [
       "(0, 55)"
      ]
     },
     "execution_count": 195,
     "metadata": {},
     "output_type": "execute_result"
    },
    {
     "data": {
      "image/png": "[encoded data removed]",
      "text/plain": [
       "<matplotlib.figure.Figure at 0x11fdf8a58>"
      ]
     },
     "metadata": {},
     "output_type": "display_data"
    }
   ],
   "source": [
    "# Pull Target and per capita crime rate\n",
    "yb = bdata.target\n",
    "xb = bdata['data'][:,0]\n",
    "\n",
    "#plot, label, and set limits\n",
    "plt.scatter(xb,yb, edgecolor = 'none')\n",
    "plt.title('Median Home Value and Per-Capita Crime Rate')\n",
    "plt.xlabel('Per-Capita Crime Rate (%)')\n",
    "plt.ylabel('Median Home Value (1000s)')\n",
    "plt.xlim(-5, 100)\n",
    "plt.ylim(0,55)"
   ]
  },
  {
   "cell_type": "markdown",
   "metadata": {},
   "source": [
    "###1.3 Create your own (creative and effective) visualization\n",
    "\n",
    "Use another type of graph or chart to illustrate an interesting pattern in the data.  Be creative in your visualization, and make sure to produce a \"publication-quality\" graph.  Points will be given for useful and creative graphs; points will be deducted for confusing issues like unlabeled axes.  If you're new to data visualization, [this guide](http://pubs.aeaweb.org/doi/pdfplus/10.1257/jep.28.1.209) is a good place to start."
   ]
  },
  {
   "cell_type": "code",
   "execution_count": 196,
   "metadata": {
    "collapsed": false
   },
   "outputs": [
    {
     "data": {
      "text/plain": [
       "<matplotlib.colorbar.Colorbar at 0x120321d30>"
      ]
     },
     "execution_count": 196,
     "metadata": {},
     "output_type": "execute_result"
    },
    {
     "data": {
      "image/png": "[encoded data removed]",
      "text/plain": [
       "<matplotlib.figure.Figure at 0x121237ef0>"
      ]
     },
     "metadata": {},
     "output_type": "display_data"
    }
   ],
   "source": [
    "#import colormap\n",
    "from matplotlib import cm\n",
    "\n",
    "# Pull Target and define interesting variables\n",
    "medv = bdata.target\n",
    "lstat = bdata['data'][:,12]\n",
    "indus = bdata['data'][:,2]\n",
    "ptratio = bdata['data'][:,11]\n",
    "dis = bdata['data'][:,7]\n",
    "age = bdata['data'][:,6]\n",
    "\n",
    "\n",
    "#plot, label, and set limits\n",
    "plt.scatter(lstat,medv,c = age,edgecolor= 'none', cmap = 'jet')\n",
    "plt.title('Median Home Value and Population Status by Home Age')\n",
    "plt.xlabel('Percent Lower Status of Population (%)')\n",
    "plt.ylabel('Median Home Value (1000s)')\n",
    "plt.xlim(0, 40)\n",
    "plt.ylim(0,55)\n",
    "plt.colorbar(label = 'Home age (years)')\n"
   ]
  },
  {
   "cell_type": "markdown",
   "metadata": {},
   "source": [
    "---\n",
    "\n",
    "##Part 2: Experimental Setup\n",
    "\n",
    "The goal of the next few sections is to design an experiment to predict the median home value for an instance in the data.\n",
    "\n",
    "###2.1 Begin by writing a function to compute the Root Mean Squared Error for a list of numbers\n",
    "\n",
    "You can find the sqrt function in the Numpy package. Furthermore the details of RMSE can be found on [Wikipedia](http://en.wikipedia.org/wiki/Root-mean-square_deviation)\n",
    "\n"
   ]
  },
  {
   "cell_type": "code",
   "execution_count": 233,
   "metadata": {
    "collapsed": false
   },
   "outputs": [
    {
     "name": "stdout",
     "output_type": "stream",
     "text": [
      "20.7433668573\n"
     ]
    }
   ],
   "source": [
    "\"\"\"\n",
    "Function\n",
    "--------\n",
    "compute_rmse\n",
    "\n",
    "Given two arrays, one of actual values and one of predicted values,\n",
    "compute the Roote Mean Squared Error\n",
    "\n",
    "Parameters\n",
    "----------\n",
    "predictions : array\n",
    "    Array of numerical values corresponding to predictions for each of the N observations\n",
    "\n",
    "yvalues : array\n",
    "    Array of numerical values corresponding to the actual values for each of the N observations\n",
    "\n",
    "Returns\n",
    "-------\n",
    "rmse : int\n",
    "    Root Mean Squared Error of the prediction\n",
    "\n",
    "Example\n",
    "-------\n",
    ">>> print compute_rmse((2,2,3),(0,2,6)\n",
    "2.16\n",
    "\"\"\"\n",
    "\n",
    "def compute_rmse(predictions, yvalues):\n",
    "    rmse = np.sqrt(((predictions - yvalues) ** 2).mean()) # Add RMSE function\n",
    "    return rmse\n",
    "\n",
    "#Print to see if it works on two arrays\n",
    "print(compute_rmse(medv,dis))\n",
    "\n",
    "    "
   ]
  },
  {
   "cell_type": "markdown",
   "metadata": {},
   "source": [
    "###2.2 Divide your data into training and testing datasets\n",
    "\n",
    "Randomly select 66% of the data and put this in a training dataset (call this \"bdata_train\"), and place the remaining 34% in a testing dataset (call this \"bdata_test\")\n"
   ]
  },
  {
   "cell_type": "code",
   "execution_count": 1,
   "metadata": {
    "collapsed": false
   },
   "outputs": [
    {
     "ename": "NameError",
     "evalue": "name 'pd' is not defined",
     "output_type": "error",
     "traceback": [
      "\u001b[0;31m---------------------------------------------------------------------------\u001b[0m",
      "\u001b[0;31mNameError\u001b[0m                                 Traceback (most recent call last)",
      "\u001b[0;32m<ipython-input-1-d5daa71e4215>\u001b[0m in \u001b[0;36m<module>\u001b[0;34m()\u001b[0m\n\u001b[1;32m      1\u001b[0m \u001b[0;31m#change array to dataframe\u001b[0m\u001b[0;34m\u001b[0m\u001b[0;34m\u001b[0m\u001b[0m\n\u001b[0;32m----> 2\u001b[0;31m \u001b[0mbdata_df\u001b[0m \u001b[0;34m=\u001b[0m \u001b[0mpd\u001b[0m\u001b[0;34m.\u001b[0m\u001b[0mDataFrame\u001b[0m\u001b[0;34m(\u001b[0m\u001b[0mbdata\u001b[0m\u001b[0;34m.\u001b[0m\u001b[0mdata\u001b[0m\u001b[0;34m)\u001b[0m\u001b[0;34m\u001b[0m\u001b[0m\n\u001b[0m\u001b[1;32m      3\u001b[0m \u001b[0;34m\u001b[0m\u001b[0m\n\u001b[1;32m      4\u001b[0m \u001b[0;31m#add column names\u001b[0m\u001b[0;34m\u001b[0m\u001b[0;34m\u001b[0m\u001b[0m\n\u001b[1;32m      5\u001b[0m \u001b[0mbdata_df\u001b[0m\u001b[0;34m.\u001b[0m\u001b[0mcolumns\u001b[0m \u001b[0;34m=\u001b[0m \u001b[0mbdata\u001b[0m\u001b[0;34m.\u001b[0m\u001b[0mfeature_names\u001b[0m\u001b[0;34m\u001b[0m\u001b[0m\n",
      "\u001b[0;31mNameError\u001b[0m: name 'pd' is not defined"
     ]
    }
   ],
   "source": [
    "#change array to dataframe\n",
    "bdata_df = pd.DataFrame(bdata.data)\n",
    "\n",
    "#add column names\n",
    "bdata_df.columns = bdata.feature_names\n",
    "\n",
    "# Attach medv to dataframe\n",
    "bdata_df['MEDV'] = bdata.target\n",
    "\n",
    "\n",
    "bdata_df.head()"
   ]
  },
  {
   "cell_type": "code",
   "execution_count": 200,
   "metadata": {
    "collapsed": false
   },
   "outputs": [
    {
     "name": "stdout",
     "output_type": "stream",
     "text": [
      "(333, 13) (333,)\n",
      "(173, 13) (173,)\n"
     ]
    }
   ],
   "source": [
    "# leave the following line untouched, it will help ensure that your \"random\" split is the same \"random\" split used by the rest of the class\n",
    "np.random.seed(seed=13579)\n",
    "\n",
    "n = len(bdata.data)\n",
    "random_order = np.arange(0,n)\n",
    "np.random.shuffle(random_order)\n",
    "\n",
    "#training data\n",
    "bdata_train = bdata.data[random_order[:int(n*.66)],:]\n",
    "bdata_train_medv = bdata.target[random_order[:int(n*.66)]]\n",
    "\n",
    "#test data\n",
    "bdata_test = bdata.data[random_order[int(n*.66):],:]\n",
    "bdata_test_medv = bdata.target[random_order[int(n*.66):]]\n",
    "\n",
    "#Print split sets/check to see if they are correct lengths\n",
    "print(bdata_train.shape, bdata_train_medv.shape)\n",
    "print (bdata_test.shape, bdata_test_medv.shape)"
   ]
  },
  {
   "cell_type": "markdown",
   "metadata": {},
   "source": [
    "###2.3 Use a very bad baseline for prediction, and compute RMSE\n",
    "\n",
    "Create a model that predicts, for every observation x_i, that the median home value is the average (mean) of the median values for all instances in the training set.  Compute the RMSE on the training set.  Now compute the RMSE on the test data set (but use the model you trained on the training set!).  How does RMSE compare for training vs. testing datasets? Is this what you expected, and why?"
   ]
  },
  {
   "cell_type": "code",
   "execution_count": 201,
   "metadata": {
    "collapsed": false
   },
   "outputs": [
    {
     "name": "stdout",
     "output_type": "stream",
     "text": [
      "8.58496788378\n",
      "10.2816716248\n"
     ]
    }
   ],
   "source": [
    "# Create model\n",
    "def badmodel (data):\n",
    "    for i in data:\n",
    "        prediction = bdata_train_medv.mean()\n",
    "    return prediction\n",
    "\n",
    "train_pred = badmodel(bdata_train)\n",
    "\n",
    "print(compute_rmse(train_pred, bdata_train_medv))\n",
    "\n",
    "test_pred = badmodel(bdata_test)\n",
    "\n",
    "print(compute_rmse(test_pred,bdata_test_medv))"
   ]
  },
  {
   "cell_type": "markdown",
   "metadata": {},
   "source": [
    "The test set RMSE is higher than the training RMSE. This is expected because the model hasn't seen the test data yet."
   ]
  },
  {
   "cell_type": "markdown",
   "metadata": {},
   "source": [
    "---\n",
    "\n",
    "##Part 3: Nearest Neighbors\n"
   ]
  },
  {
   "cell_type": "markdown",
   "metadata": {},
   "source": [
    "###3.1 Nearest Neighbors: Distance function\n",
    "Let's try and build a machine learning algorithm to beat the \"Average Value\" baseline that you computed above.  Soon you will implement the Nearest Neighbor algorithm, but first you need to create a distance metric to measure the distance (and similarity) between two instances.  Write a generic function to compute the L-Norm distance (called the [*p*-norm](http://en.wikipedia.org/wiki/Norm_(mathematics) distance on Wikipedia). Verify that your function works by computing the Euclidean distance between the points (3,4) and (6,8)."
   ]
  },
  {
   "cell_type": "code",
   "execution_count": 202,
   "metadata": {
    "collapsed": false
   },
   "outputs": [
    {
     "name": "stdout",
     "output_type": "stream",
     "text": [
      "5.0\n"
     ]
    }
   ],
   "source": [
    "\"\"\"\n",
    "Function\n",
    "--------\n",
    "distance\n",
    "\n",
    "Given two instances and a value for L, return the L-Norm distance between them\n",
    "\n",
    "Parameters\n",
    "----------\n",
    "x1, x2 : array\n",
    "    Array of numerical values corresponding to predictions for each of the N observations\n",
    "\n",
    "L: int\n",
    "    Value of L to use in computing distances\n",
    "\n",
    "Returns\n",
    "-------\n",
    "dist : int\n",
    "    The L-norm distance between instances\n",
    "\n",
    "Example\n",
    "-------\n",
    ">>> print distance((3,4),(6,8),2)\n",
    "7\n",
    "\n",
    "\"\"\"\n",
    "def distance(x1, x2, L):\n",
    "\n",
    "    #Make arrays for calculations\n",
    "    X1 = np.array(x1)\n",
    "    X2 = np.array(x2)\n",
    "    \n",
    "    dist = ((X2-X1)**L).sum()\n",
    "    dist = np.power(dist, 1.0/L)\n",
    "    return dist\n",
    "print (distance((3,4),(6,8),2))"
   ]
  },
  {
   "cell_type": "markdown",
   "metadata": {},
   "source": [
    "###3.2 Basic Nearest Neighbor algorithm\n",
    "\n",
    "Now things get fun.  Your task is to implement a basic nearest neighbor algorithm from scratch.  Your simple model will use two input features (CRIM and RM) and a single output (MEDV).  In other words, you are modelling the relationship between median home value and crime rates and house size.\n",
    "\n",
    "Use your training data (bdata_train) to \"fit\" your model, although as you know, with Nearest Neighbors there is no real training, you just need to keep your training data in memory.  Write a function that predicts, for each instance in the testing data (bdata_test), the median home value using the nearest neighbor algorithm we discussed in class.  Since this is a small dataset, you can simply compare your test instance to every instance in the training set, and return the MEDV value of the closest training instance.  Have your function take L as an input, where L is passed to the distance function.\n",
    "\n",
    "Compute the RMSE for the Nearest Neighbor predictions on the test set, using the Euclidean distance.  Report an estimate of the total time taken by your code to predict the nearest neighbors for all the values in the test data set."
   ]
  },
  {
   "cell_type": "code",
   "execution_count": 230,
   "metadata": {
    "collapsed": false
   },
   "outputs": [
    {
     "name": "stdout",
     "output_type": "stream",
     "text": [
      "Time in seconds 0.82\n",
      "nneighbor rmse for test set =  7.45009989459\n"
     ]
    }
   ],
   "source": [
    "\"\"\"\n",
    "Function\n",
    "--------\n",
    "nearest neighbor(nneighbor)\n",
    "\n",
    "Given 4 arrays (training and test sets for both x and y) and a value for L, return the rmse\n",
    "\n",
    "Parameters\n",
    "----------\n",
    "x_train, y_train,x_test,y_test : arrays\n",
    "\n",
    "L: int\n",
    "    Value of L to use in computing distances\n",
    "\n",
    "Returns\n",
    "-------\n",
    "rmse : float\n",
    "    The Root Mean Squared Error \n",
    "\n",
    "\"\"\"\n",
    "\n",
    "import time\n",
    "def nneighbor(x_train, y_train, x_test, y_test, L):\n",
    "    start_time = time.time()\n",
    "    \n",
    "#create arrays for training and test sets\n",
    "    X_Train = np.array(x_train)\n",
    "    Y_Train = np.array(y_train)\n",
    "    X_Test = np.array(x_test)\n",
    "    Y_Test = np.array(y_test)\n",
    "    Y_Hat = np.zeros(len(Y_Test), dtype=float)\n",
    "    \n",
    "#iterate over test set\n",
    "    for i in range(len(X_Test)):\n",
    "        output = 0\n",
    "        minimum_dist = float(\"inf\")\n",
    "        \n",
    "        for j in range(len(X_Train)):\n",
    "            dist = distance(X_Train[j], X_Test[i], L) # calculate distances between Xtrain and Xtest for entire length of j and i\n",
    "            if(dist < minimum_dist):\n",
    "                minimum_dist = dist\n",
    "                output = Y_Train[j] #output the y values for each point\n",
    "            \n",
    "        Y_Hat[i] = output # yhat for rmse calculations\n",
    "        \n",
    "#calculate RMSE\n",
    "    rmse = compute_rmse(Y_Hat, Y_Test)\n",
    "#Print timestamp\n",
    "    print(\"Time in seconds \" + str(round(time.time() - start_time,2)))\n",
    "    return rmse\n",
    "\n",
    "#features: 0 - CRIM, 5 - RM\n",
    "#Calculate RMSE for nneighbor: Remember-- L=2\n",
    "nn_rmse = nneighbor(bdata_train[:,(0,5)], bdata_train_medv, bdata_test[:,(0,5)], bdata_test_medv, 2)\n",
    "print(\"nneighbor rmse for test set = \", nn_rmse)\n"
   ]
  },
  {
   "cell_type": "markdown",
   "metadata": {},
   "source": [
    "###3.3 Results and Normalization\n",
    "\n",
    "If you were being astute, you would have noticed that we never normalized our features -- a big no-no with Nearest Neighbor algorithms.  Write a generic normalization function that takes as input an array of values for a given feature, and returns the normalized array (subtract the mean and divide by the standard deviation).\n",
    "\n",
    "Re-run the Nearest Neighbor algorithm on the normalized dataset (still just using CRIM and RM as input), and compare the RMSE from this method with your previous RMSE evaluations.\n",
    "\n",
    "*NOTE*: To normalize properly, best practice is to compute the mean and standard deviation on the training set, and use these values to normalize the testing dataset. However, for this problem set, it is okay if you separately normalize each dataset using the respective mean and standard deviation."
   ]
  },
  {
   "cell_type": "code",
   "execution_count": 210,
   "metadata": {
    "collapsed": false
   },
   "outputs": [
    {
     "name": "stdout",
     "output_type": "stream",
     "text": [
      "Time in seconds 0.8\n",
      "nneighbor norm rmse for test set =  7.80673712307\n"
     ]
    }
   ],
   "source": [
    "\"\"\"\n",
    "Function\n",
    "--------\n",
    "normalize (normalization function)\n",
    "\n",
    "The input uses raw data, mean and standard deviation to normalize the features\n",
    "\n",
    "Parameters\n",
    "----------\n",
    "raw_data \n",
    "\n",
    "Returns\n",
    "-------\n",
    "norm_data :\n",
    "\n",
    "the normalized data calculation\n",
    "\"\"\"\n",
    "def normalize(raw_data):\n",
    "    norm_data = (raw_data - raw_data.mean()) / raw_data.std()\n",
    "    return norm_data\n",
    "\n",
    "#create arrays for training and test sets\n",
    "Xtrain_norm = np.array(normalize(bdata_train))\n",
    "Xtest_norm = np.array(normalize(bdata_test))\n",
    "#Ytrain_norm = np.array(normalize(bdata_train_medv))\n",
    "#Ytest_norm = np.array(normalize(bdata_test_medv))\n",
    "\n",
    "#nn with normalized data\n",
    "nn_norm_rmse = nneighbor(Xtrain_norm[:,(0,5)], bdata_train_medv, Xtest_norm[:,(0,5)], bdata_test_medv , 2)\n",
    "print(\"nneighbor norm rmse for test set = \", nn_norm_rmse)\n"
   ]
  },
  {
   "cell_type": "markdown",
   "metadata": {},
   "source": [
    "Normalization increased the rmse from 7.4 to 7.8, though I am not entirely sure why."
   ]
  },
  {
   "cell_type": "markdown",
   "metadata": {},
   "source": [
    "###3.4 Optimization\n",
    "\n",
    "A lot of the decisions we've made so far have been arbitrary.  Try to increase the performance of your nearest neighbor algorithm by adding features that you think might be relevant, and by using different values of L in the distance function.  Try a model that uses a different set of 2 features, then try at least one model that uses more than 4 features, then try using a different value of L.  If you're having fun, try a few different combinations of features and L!\n",
    "\n",
    "What combination of features and distance function provide the lowest RMSE?  Do your decisions affect the running time of the algorithm?"
   ]
  },
  {
   "cell_type": "code",
   "execution_count": 215,
   "metadata": {
    "collapsed": false
   },
   "outputs": [
    {
     "name": "stdout",
     "output_type": "stream",
     "text": [
      "Time in seconds 0.81\n",
      "age and ptratio:L2 10.9877546134\n"
     ]
    },
    {
     "name": "stderr",
     "output_type": "stream",
     "text": [
      "/Applications/anaconda/lib/python3.5/site-packages/ipykernel/__main__.py:34: RuntimeWarning: invalid value encountered in power\n"
     ]
    },
    {
     "name": "stdout",
     "output_type": "stream",
     "text": [
      "Time in seconds 1.19\n",
      "age and ptratio:L5 12.210660556\n",
      "Time in seconds 0.84\n",
      "age and ptratio:L2 9.40670035457\n",
      "Time in seconds 1.0\n",
      "age and ptratio:L10 8.44420997376\n",
      "Time in seconds 0.74\n",
      "age and ptratio:L1 13.6257428073\n",
      "Time in seconds 0.79\n",
      "all:L1 21.0747376371\n",
      "Time in seconds 0.98\n",
      "all:L10 8.78791866433\n",
      "Time in seconds 0.85\n",
      "all:L2 8.12317387215\n"
     ]
    }
   ],
   "source": [
    "#6 - AGE              \n",
    "#5 - NOX\n",
    "#10 - PTRATIO\n",
    "#12 - LSTAT\n",
    "\n",
    "#nn with age and ptratio: L=2\n",
    "nn1 = nneighbor(Xtrain_norm[:,(6,10)], bdata_train_medv, Xtest_norm[:,(6,10)], bdata_test_medv, 2)\n",
    "print (\"age and ptratio:L2\", nn1)\n",
    "\n",
    "#nn with age and ptratio: L=5\n",
    "nn2 = nneighbor(Xtrain_norm[:,(6,10)], bdata_train_medv, Xtest_norm[:,(6,10)], bdata_test_medv, 5)\n",
    "print (\"age and ptratio:L5\", nn2)\n",
    "\n",
    "#nn with lstat and nox: L=2\n",
    "nn3 = nneighbor(Xtrain_norm[:,(6,10)], bdata_train_medv, Xtest_norm[:,(5,12)], bdata_test_medv, 2)\n",
    "print (\"age and ptratio:L2\", nn3)\n",
    "\n",
    "#nn with lstat and nox: L=10\n",
    "nn4 = nneighbor(Xtrain_norm[:,(6,10)], bdata_train_medv, Xtest_norm[:,(5,12)], bdata_test_medv, 10)\n",
    "print (\"age and ptratio:L10\", nn4)\n",
    "\n",
    "#nn with lstat and nox: L=1\n",
    "nn5 = nneighbor(Xtrain_norm[:,(6,10)], bdata_train_medv, Xtest_norm[:,(5,12)], bdata_test_medv, 1)\n",
    "print (\"age and ptratio:L1\", nn5)\n",
    "\n",
    "#nn with all features: L=1\n",
    "nn6 = nneighbor(Xtrain_norm[:,], bdata_train_medv, Xtest_norm[:,], bdata_test_medv, 1)\n",
    "print (\"all:L1\", nn6)\n",
    "\n",
    "#nn with all features: L=10\n",
    "nn7 = nneighbor(Xtrain_norm[:,], bdata_train_medv, Xtest_norm[:,], bdata_test_medv, 10)\n",
    "print (\"all:L10\", nn7)\n",
    "\n",
    "#nn with lstat and nox: L=2\n",
    "nn8 = nneighbor(Xtrain_norm[:,], bdata_train_medv, Xtest_norm[:,], bdata_test_medv, 2)\n",
    "print (\"all:L2\", nn8)"
   ]
  },
  {
   "cell_type": "markdown",
   "metadata": {},
   "source": [
    "The lowest RMSE cam from using all the features with a distance of L=2.  Perhaps it is that the more features you add, the lower the mean squared error. The running time for the algorithm seems to be most affected by the L value put in. The three nn calcualtions above with L >2 have the highest running times."
   ]
  },
  {
   "cell_type": "markdown",
   "metadata": {},
   "source": [
    "### 3.5 Cross-Validation\n",
    "\n",
    "The more you tinkered with your features and distance function, the higher the risk that you overfit your training data.  To prevent this sort of overfitting, you need to use cross-validation (see K-fold [cross-validation](http://en.wikipedia.org/wiki/Cross-validation_(statistics)).  Here you must implement a simple k-fold cross-validation algorithm yourself.  The function you write here will be used several more times in this problem set, so do your best to write efficient code! (Note that the sklearn package has a built-in [K-fold](http://scikit-learn.org/stable/modules/cross_validation.html#cross-validation) iterator -- you should *not* be invoking that or any related algorithms in this section of the problem set.)\n",
    "\n",
    "Use 10-fold cross-validation and report the average RMSE for Nearest Neighbors using Euclidean distance with CRIM and RM input features, as well as the total running time for the full run of 10 folds.  In other words, randomly divide your dataset into 10 equally-sized samples, and for each of 10 iterations (the \"folds\"), use 9 samples as \"training data\" (even though there is no training in k-NN!), and the remaining 1 sample for testing.  Compute the RMSE of that particular test set, then move on to the next iteration.  Report the average RMSE across the 10 iterations."
   ]
  },
  {
   "cell_type": "code",
   "execution_count": 216,
   "metadata": {
    "collapsed": false
   },
   "outputs": [],
   "source": [
    "\n",
    "#Define Broad/General Function\n",
    "def nn_cv (data_length, n_folds):\n",
    "    np.random.seed(seed=44)   #Set random seed\n",
    "    fsize = data_length/n_folds   #Create fold size\n",
    "    k_results = []    # create empty results list\n",
    "    \n",
    "    for i in range(n_folds):   #creating training and test for each fold\n",
    "        train_index=np.random.choice(data_length, fsize, replace=False) #NO REPLACEMENT to make sure all data points are represented\n",
    "        test_index=np.asarray([i for i in range(data_length) if i not in train_index]) #if not in training, put in test\n",
    "        k_results.append((train_index, test_index))\n",
    "    return k_results   #return the list\n"
   ]
  },
  {
   "cell_type": "code",
   "execution_count": 223,
   "metadata": {
    "collapsed": false
   },
   "outputs": [
    {
     "name": "stderr",
     "output_type": "stream",
     "text": [
      "/Applications/anaconda/lib/python3.5/site-packages/ipykernel/__main__.py:9: VisibleDeprecationWarning: using a non-integer number instead of an integer will result in an error in the future\n"
     ]
    },
    {
     "name": "stdout",
     "output_type": "stream",
     "text": [
      "1\n",
      "Time in seconds 0.15\n",
      "nn rmse2 = 6.94083328331\n",
      "2\n",
      "Time in seconds 0.16\n",
      "nn rmse2 = 5.43677600544\n",
      "3\n",
      "Time in seconds 0.14\n",
      "nn rmse2 = 5.95465364232\n",
      "4\n",
      "Time in seconds 0.14\n",
      "nn rmse2 = 6.9056329664\n",
      "5\n",
      "Time in seconds 0.18\n",
      "nn rmse2 = 7.36569752298\n",
      "6\n",
      "Time in seconds 0.15\n",
      "nn rmse2 = 5.1440418609\n",
      "7\n",
      "Time in seconds 0.15\n",
      "nn rmse2 = 6.39310305459\n",
      "8\n",
      "Time in seconds 0.13\n",
      "nn rmse2 = 7.03384674271\n",
      "9\n",
      "Time in seconds 0.15\n",
      "nn rmse2 = 5.05227011682\n",
      "10\n",
      "Time in seconds 0.14\n",
      "nn rmse2 = 4.9716161021\n",
      "avg rmse =  6.11984712976\n",
      "Time in seconds 1.5\n"
     ]
    }
   ],
   "source": [
    "#RUN THE NN_CV\n",
    "\n",
    "n_folds = 10    #Set number of folds\n",
    "k_folds = nn_cv(len(bdata_train), n_folds = n_folds)   #Store function in k_folds, and use bdata_train for calculation\n",
    "\n",
    "start_time = time.time()   \n",
    "i=0   #set i = 0 to start\n",
    "kfold_rmse = 0   # set kfold_rmse to 0 to start\n",
    "\n",
    "#run K-fold cv\n",
    "for train, test in k_folds:\n",
    "    i+=1    #increase i by increments of 1\n",
    "    print(i)   #Print each fold\n",
    "# find nn RMSE    \n",
    "    nn_rmse2 = nneighbor(Xtrain_norm[train][:,(0,5)], bdata_train_medv[train], \n",
    "                        Xtrain_norm[test][:,(0,5)], bdata_train_medv[test], 2)\n",
    "    kfold_rmse += nn_rmse2  \n",
    "    print (\"nn rmse2 =\", nn_rmse2)\n",
    "\n",
    "#find average rmse\n",
    "kfold_rmse /= n_folds    \n",
    "\n",
    "#print\n",
    "print(\"avg rmse = \", kfold_rmse)\n",
    "print(\"Time in seconds \" + str(round(time.time() - start_time,2)))\n",
    "\n"
   ]
  },
  {
   "cell_type": "markdown",
   "metadata": {},
   "source": [
    "###3.6 K-Nearest Neighbors Algorithm\n",
    "\n",
    "Implement the K-Nearest Neighbors algorithm.  Using 10-fold cross validation, report the RMSE for K=3 and the running time of the algorithm."
   ]
  },
  {
   "cell_type": "code",
   "execution_count": 250,
   "metadata": {
    "collapsed": false
   },
   "outputs": [
    {
     "name": "stdout",
     "output_type": "stream",
     "text": [
      "Time in seconds 0.99\n",
      "knn test data (normal.) rmse =  8.37521460341\n",
      "1\n",
      "Time in seconds 0.16\n",
      "knn_rmse_cv = 8.59476003155\n",
      "2\n"
     ]
    },
    {
     "name": "stderr",
     "output_type": "stream",
     "text": [
      "/Applications/anaconda/lib/python3.5/site-packages/ipykernel/__main__.py:9: VisibleDeprecationWarning: using a non-integer number instead of an integer will result in an error in the future\n"
     ]
    },
    {
     "name": "stdout",
     "output_type": "stream",
     "text": [
      "Time in seconds 0.19\n",
      "knn_rmse_cv = 5.98792117517\n",
      "3\n",
      "Time in seconds 0.2\n",
      "knn_rmse_cv = 6.5839628391\n",
      "4\n",
      "Time in seconds 0.19\n",
      "knn_rmse_cv = 9.92123648208\n",
      "5\n",
      "Time in seconds 0.18\n",
      "knn_rmse_cv = 10.0258150126\n",
      "6\n",
      "Time in seconds 0.16\n",
      "knn_rmse_cv = 5.3283111771\n",
      "7\n",
      "Time in seconds 0.18\n",
      "knn_rmse_cv = 6.0256977466\n",
      "8\n",
      "Time in seconds 0.17\n",
      "knn_rmse_cv = 7.10827452105\n",
      "9\n",
      "Time in seconds 0.19\n",
      "knn_rmse_cv = 6.31646789485\n",
      "10\n",
      "Time in seconds 0.16\n",
      "knn_rmse_cv = 6.56940382886\n",
      "avg rmse =  7.2461850709\n",
      "Time in seconds 1.77\n"
     ]
    }
   ],
   "source": [
    "\"\"\"\n",
    "Function\n",
    "--------\n",
    "K's Nearest Neighbor (knn)\n",
    "\n",
    "Given 4 arrays (training and test sets for both x and y) and a value for L (distance), and K (number of neibors to find)\n",
    "\n",
    "Parameters\n",
    "----------\n",
    "x_train, y_train,x_test,y_test : arrays\n",
    "\n",
    "L: int\n",
    "    Value of L to use in computing distances\n",
    "K: int\n",
    "   Number of neighbors to find \n",
    "\n",
    "Returns\n",
    "-------\n",
    "rmse : float\n",
    "    The Root Mean Squared Error \n",
    "\n",
    "\"\"\"\n",
    "\n",
    "from collections import Counter\n",
    "\n",
    "def knn(x_train, y_train, x_test, y_test, L, K):\n",
    "    start_time = time.time()\n",
    "    \n",
    "    #Create Predictions (yhat) list\n",
    "    #create arrays for training and test sets like before\n",
    "    X_Train = np.array(x_train)\n",
    "    Y_Train = np.array(y_train)\n",
    "    X_Test = np.array(x_test)\n",
    "    Y_Test = np.array(y_test)\n",
    "    #Y_Hat = np.zeros(len(Y_Test), dtype=float)\n",
    "    y_hat = []\n",
    "    \n",
    "    #for each instance in test set, find NN in training set\n",
    "    for i in range(len(X_Test)):\n",
    "        k_nearest = []\n",
    "        distances = []\n",
    "        #Calculate distance between x train and x test values\n",
    "        for j in range (len(X_Train)):\n",
    "            dist = distance(X_Test[i,:], X_Train[j,:],L)\n",
    "            distances.append([dist, j])\n",
    "            \n",
    "        #Sort distances\n",
    "        distances = sorted(distances)\n",
    "        \n",
    "        #list KNN targets\n",
    "        for k in range(K):\n",
    "            index = distances[k][1]\n",
    "            k_nearest.append(Y_Train[index])\n",
    "    \n",
    "        #find most common target\n",
    "        y_hat.append(Counter(k_nearest).most_common (1)[0][0])\n",
    "    \n",
    "#calculate RMSE\n",
    "    rmse = compute_rmse(y_hat, Y_Test)\n",
    "#Print timestamp\n",
    "    print(\"Time in seconds \" + str(round(time.time() - start_time,2)))\n",
    "    return rmse\n",
    "\n",
    "#Print\n",
    "knn_rmse1 = knn(Xtrain_norm[:,(0,5)], bdata_train_medv, Xtest_norm[:,(0,5)], bdata_test_medv , 2,3)\n",
    "print (\"knn test data (normal.) rmse = \",knn_rmse1)\n",
    "\n",
    "#####  CROSS VALIDATION  ######\n",
    "\n",
    "n_folds = 10    #Set number of folds\n",
    "k_folds = nn_cv(len(bdata_train), n_folds = n_folds)   #Store function in k_folds, and use bdata_train for calculation\n",
    "\n",
    "start_time = time.time()   \n",
    "i=0                                    #set i = 0 to start\n",
    "kfold_rmse = 0                         # set kfold_rmse to 0 to start\n",
    "\n",
    "#run K-fold cv \n",
    "for train, test in k_folds:\n",
    "    i+=1                               #increase i by increments of 1\n",
    "    print(i)                           #Print each fold\n",
    "# find nn RMSE    \n",
    "    knn_rmse_cv = knn(Xtrain_norm[train][:,(0,5)], bdata_train_medv[train], \n",
    "                        Xtrain_norm[test][:,(0,5)], bdata_train_medv[test], 2,3)\n",
    "    kfold_rmse += knn_rmse_cv  \n",
    "    print (\"knn_rmse_cv =\", knn_rmse_cv)\n",
    "\n",
    "#find average rmse\n",
    "kfold_rmse /= n_folds    \n",
    "\n",
    "#print\n",
    "print(\"avg rmse = \", kfold_rmse)\n",
    "print(\"Time in seconds \" + str(round(time.time() - start_time,2)))\n",
    "\n",
    "       "
   ]
  },
  {
   "cell_type": "markdown",
   "metadata": {},
   "source": [
    "###3.7 Using cross validation to find K\n",
    "\n",
    "What is the best choice of K?  Compute the RMSE for values of K between 1 and 25 using 10-fold cross-validation.  Use the following features in your model, and don't forget to normalize: CRIM, ZN, RM, AGE, DIS, TAX.  Create a graph that shows how RMSE changes as K increases from 1 to 25.  Label your axes, and summarize what you see.  What do you think is a reasonable choice of K for this model?"
   ]
  },
  {
   "cell_type": "code",
   "execution_count": 295,
   "metadata": {
    "collapsed": false
   },
   "outputs": [
    {
     "name": "stderr",
     "output_type": "stream",
     "text": [
      "/Applications/anaconda/lib/python3.5/site-packages/ipykernel/__main__.py:9: VisibleDeprecationWarning: using a non-integer number instead of an integer will result in an error in the future\n"
     ]
    },
    {
     "name": "stdout",
     "output_type": "stream",
     "text": [
      "1\n",
      "Time in seconds 0.09\n",
      "knn_rmse_cv = 10.1358136699\n",
      "2\n",
      "Time in seconds 0.07\n",
      "knn_rmse_cv = 9.3980333714\n",
      "3\n",
      "Time in seconds 0.08\n",
      "knn_rmse_cv = 11.6041789348\n",
      "4\n",
      "Time in seconds 0.09\n",
      "knn_rmse_cv = 14.0063088464\n",
      "5\n",
      "Time in seconds 0.08\n",
      "knn_rmse_cv = 12.1556776858\n",
      "6\n",
      "Time in seconds 0.08\n",
      "knn_rmse_cv = 9.71219111478\n",
      "7\n",
      "Time in seconds 0.07\n",
      "knn_rmse_cv = 9.39489389243\n",
      "8\n",
      "Time in seconds 0.08\n",
      "knn_rmse_cv = 9.00367980328\n",
      "9\n",
      "Time in seconds 0.07\n",
      "knn_rmse_cv = 7.67461929023\n",
      "10\n",
      "Time in seconds 0.07\n",
      "knn_rmse_cv = 15.4284538273\n",
      "11\n",
      "Time in seconds 0.07\n",
      "knn_rmse_cv = 7.59720960287\n",
      "12\n",
      "Time in seconds 0.07\n",
      "knn_rmse_cv = 8.91652608923\n",
      "13\n",
      "Time in seconds 0.07\n",
      "knn_rmse_cv = 8.27671621176\n",
      "14\n",
      "Time in seconds 0.07\n",
      "knn_rmse_cv = 8.76600322268\n",
      "15\n",
      "Time in seconds 0.08\n",
      "knn_rmse_cv = 11.5956214797\n",
      "16\n",
      "Time in seconds 0.09\n",
      "knn_rmse_cv = 12.7511580356\n",
      "17\n",
      "Time in seconds 0.08\n",
      "knn_rmse_cv = 17.143106304\n",
      "18\n",
      "Time in seconds 0.07\n",
      "knn_rmse_cv = 9.37757797888\n",
      "19\n",
      "Time in seconds 0.07\n",
      "knn_rmse_cv = 8.44012181488\n",
      "20\n",
      "Time in seconds 0.07\n",
      "knn_rmse_cv = 8.33703147109\n",
      "21\n",
      "Time in seconds 0.07\n",
      "knn_rmse_cv = 10.9813022907\n",
      "22\n",
      "Time in seconds 0.08\n",
      "knn_rmse_cv = 10.1549849212\n",
      "23\n",
      "Time in seconds 0.07\n",
      "knn_rmse_cv = 8.46933438943\n",
      "24\n",
      "Time in seconds 0.07\n",
      "knn_rmse_cv = 9.27226206219\n",
      "25\n",
      "Time in seconds 0.07\n",
      "knn_rmse_cv = 9.41308265129\n",
      "avg rmse =  10.3202355585\n",
      "Time in seconds 1.9\n"
     ]
    }
   ],
   "source": [
    "#Things to Remember:\n",
    "#CRIM(0)\n",
    "#ZN(1)\n",
    "#RM(5)\n",
    "#AGE(6)\n",
    "#DIS(7)\n",
    "#TAX(9)\n",
    "\n",
    "n_folds = 25    #Set number of folds\n",
    "k_folds = nn_cv(len(bdata_train), n_folds = n_folds)   #Store function in k_folds, and use bdata_train for calculation\n",
    "\n",
    "start_time = time.time()   \n",
    "i=0                                    #set i = 0 to start\n",
    "kfold_rmse = 0                         # set kfold_rmse to 0 to start\n",
    "\n",
    "#Make empty list for plotting\n",
    "K_RMSE = []\n",
    "\n",
    "#run K-fold cv \n",
    "for train, test in k_folds:\n",
    "    i+=1                               #increase i by increments of 1\n",
    "    print(i)                           #Print each fold\n",
    "# find nn RMSE    \n",
    "    knn_rmse_cv2 = knn(Xtrain_norm[train][:,(0,1,5,6,7,9)], bdata_train_medv[train], \n",
    "                        Xtrain_norm[test][:,(0,1,5,6,7,9)], bdata_train_medv[test], 2,3)\n",
    "    kfold_rmse += knn_rmse_cv2  \n",
    "    K_RMSE.append([i,knn_rmse_cv2])\n",
    "    print (\"knn_rmse_cv =\", knn_rmse_cv2)\n",
    "\n",
    "#find average rmse\n",
    "kfold_rmse /= n_folds    \n",
    "\n",
    "#print\n",
    "print(\"avg rmse = \", kfold_rmse)\n",
    "print(\"Time in seconds \" + str(round(time.time() - start_time,2)))\n",
    "\n"
   ]
  },
  {
   "cell_type": "code",
   "execution_count": 305,
   "metadata": {
    "collapsed": false
   },
   "outputs": [
    {
     "name": "stdout",
     "output_type": "stream",
     "text": [
      "[[1, 10.13581366985404], [2, 9.3980333714027644], [3, 11.604178934763114], [4, 14.00630884637348], [5, 12.155677685756562], [6, 9.7121911147794044], [7, 9.394893892429014], [8, 9.0036798032804342], [9, 7.6746192902319263], [10, 15.428453827263443], [11, 7.5972096028739395], [12, 8.9165260892345302], [13, 8.2767162117593482], [14, 8.7660032226779379], [15, 11.5956214796793], [16, 12.751158035645233], [17, 17.143106303992869], [18, 9.3775779788813267], [19, 8.4401218148792143], [20, 8.337031471093292], [21, 10.981302290712152], [22, 10.154984921209879], [23, 8.4693343894310846], [24, 9.2722620621938852], [25, 9.413082651289109]]\n"
     ]
    },
    {
     "data": {
      "text/plain": [
       "(0, 25)"
      ]
     },
     "execution_count": 305,
     "metadata": {},
     "output_type": "execute_result"
    },
    {
     "data": {
      "image/png": "[encoded data removed]",
      "text/plain": [
       "<matplotlib.figure.Figure at 0x123b1c978>"
      ]
     },
     "metadata": {},
     "output_type": "display_data"
    }
   ],
   "source": [
    " #create array\n",
    "#K_RMSE= np.array(25, rmse_val)\n",
    "#K_RMSE = np.arange(25)\n",
    "#K_RMSE = np.array(int([k[i],kfold_rmse]))\n",
    "#K_RMSE.shape(25, len(kfold_rmse))\n",
    "\n",
    "#K_RMSE = (k[i],kfold_rmse)\n",
    "print(K_RMSE)\n",
    "plt.plot(K_RMSE)\n",
    "plt.title('RMSE : Which Value of K')\n",
    "plt.xlabel('K')\n",
    "plt.ylabel('RMSE')\n",
    "plt.ylim(0,25)\n",
    "\n"
   ]
  },
  {
   "cell_type": "markdown",
   "metadata": {},
   "source": [
    "Based on the plot and the output, I can tell by the output of the function, that a k of 11 produces the lowest rmse at 7.59."
   ]
  },
  {
   "cell_type": "code",
   "execution_count": null,
   "metadata": {
    "collapsed": true
   },
   "outputs": [],
   "source": []
  }
 ],
 "metadata": {
  "anaconda-cloud": {},
  "kernelspec": {
   "display_name": "Python [default]",
   "language": "python",
   "name": "python3"
  },
  "language_info": {
   "codemirror_mode": {
    "name": "ipython",
    "version": 3
   },
   "file_extension": ".py",
   "mimetype": "text/x-python",
   "name": "python",
   "nbconvert_exporter": "python",
   "pygments_lexer": "ipython3",
   "version": "3.5.2"
  }
 },
 "nbformat": 4,
 "nbformat_minor": 0
}
